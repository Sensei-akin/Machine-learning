{
 "cells": [
  {
   "cell_type": "code",
   "execution_count": 1,
   "metadata": {},
   "outputs": [],
   "source": [
    "import pandas as pd\n",
    "import numpy as np\n",
    "import matplotlib.pyplot as plt\n",
    "import seaborn as sns\n",
    "from datetime import date, timedelta\n",
    "\n",
    "%matplotlib inline"
   ]
  },
  {
   "cell_type": "code",
   "execution_count": null,
   "metadata": {},
   "outputs": [],
   "source": [
    "import pandas as pd\n",
    "import numpy as np\n",
    "import matplotlib.pyplot as plt\n",
    "import seaborn as sns\n",
    "from datetime import date, timedelta\n",
    "\n",
    "%matplotlib inline\n",
    "\n",
    "train_perf = pd.read_csv('trainperf.csv')\n",
    "perf['good_bad_flag'] = perf.good_bad_flag.replace({'Good':1,'Bad':0})"
   ]
  },
  {
   "cell_type": "markdown",
   "metadata": {},
   "source": [
    "# PERFORMANCE"
   ]
  },
  {
   "cell_type": "code",
   "execution_count": 2,
   "metadata": {},
   "outputs": [],
   "source": [
    "train_perf = pd.read_csv('trainperf.csv')\n",
    "test_perf = pd.read_csv('testperf.csv')"
   ]
  },
  {
   "cell_type": "code",
   "execution_count": 3,
   "metadata": {},
   "outputs": [],
   "source": [
    " id = test_perf['customerid']  "
   ]
  },
  {
   "cell_type": "code",
   "execution_count": 4,
   "metadata": {},
   "outputs": [
    {
     "data": {
      "text/plain": [
       "(5818, 10)"
      ]
     },
     "execution_count": 4,
     "metadata": {},
     "output_type": "execute_result"
    }
   ],
   "source": [
    "frames = [train_perf,test_perf]\n",
    "perf = pd.concat(frames)\n",
    "perf.shape"
   ]
  },
  {
   "cell_type": "code",
   "execution_count": 6,
   "metadata": {},
   "outputs": [],
   "source": [
    "perf['good_bad_flag'] = perf.good_bad_flag.replace({'Good':1,'Bad':0})\n",
    "#train_perf.corr()"
   ]
  },
  {
   "cell_type": "code",
   "execution_count": 9,
   "metadata": {},
   "outputs": [
    {
     "data": {
      "text/plain": [
       "customerid          0\n",
       "systemloanid        0\n",
       "loannumber          0\n",
       "approveddate        0\n",
       "creationdate        0\n",
       "loanamount          0\n",
       "totaldue            0\n",
       "termdays            0\n",
       "referredby       3781\n",
       "good_bad_flag       0\n",
       "dtype: int64"
      ]
     },
     "execution_count": 9,
     "metadata": {},
     "output_type": "execute_result"
    }
   ],
   "source": [
    "train_perf.isnull().sum()"
   ]
  },
  {
   "cell_type": "code",
   "execution_count": 5,
   "metadata": {},
   "outputs": [
    {
     "data": {
      "text/html": [
       "<div>\n",
       "<style>\n",
       "    .dataframe thead tr:only-child th {\n",
       "        text-align: right;\n",
       "    }\n",
       "\n",
       "    .dataframe thead th {\n",
       "        text-align: left;\n",
       "    }\n",
       "\n",
       "    .dataframe tbody tr th {\n",
       "        vertical-align: top;\n",
       "    }\n",
       "</style>\n",
       "<table border=\"1\" class=\"dataframe\">\n",
       "  <thead>\n",
       "    <tr style=\"text-align: right;\">\n",
       "      <th></th>\n",
       "      <th>approveddate</th>\n",
       "      <th>creationdate</th>\n",
       "      <th>customerid</th>\n",
       "      <th>good_bad_flag</th>\n",
       "      <th>loanamount</th>\n",
       "      <th>loannumber</th>\n",
       "      <th>referredby</th>\n",
       "      <th>systemloanid</th>\n",
       "      <th>termdays</th>\n",
       "      <th>totaldue</th>\n",
       "    </tr>\n",
       "  </thead>\n",
       "  <tbody>\n",
       "    <tr>\n",
       "      <th>0</th>\n",
       "      <td>22:56.0</td>\n",
       "      <td>22:47.0</td>\n",
       "      <td>8a2a81a74ce8c05d014cfb32a0da1049</td>\n",
       "      <td>Good</td>\n",
       "      <td>30000</td>\n",
       "      <td>12</td>\n",
       "      <td>NaN</td>\n",
       "      <td>301994762</td>\n",
       "      <td>30</td>\n",
       "      <td>34500.0</td>\n",
       "    </tr>\n",
       "    <tr>\n",
       "      <th>1</th>\n",
       "      <td>04:41.0</td>\n",
       "      <td>04:18.0</td>\n",
       "      <td>8a85886e54beabf90154c0a29ae757c0</td>\n",
       "      <td>Good</td>\n",
       "      <td>15000</td>\n",
       "      <td>2</td>\n",
       "      <td>NaN</td>\n",
       "      <td>301965204</td>\n",
       "      <td>30</td>\n",
       "      <td>17250.0</td>\n",
       "    </tr>\n",
       "    <tr>\n",
       "      <th>2</th>\n",
       "      <td>52:57.0</td>\n",
       "      <td>52:51.0</td>\n",
       "      <td>8a8588f35438fe12015444567666018e</td>\n",
       "      <td>Good</td>\n",
       "      <td>20000</td>\n",
       "      <td>7</td>\n",
       "      <td>NaN</td>\n",
       "      <td>301966580</td>\n",
       "      <td>15</td>\n",
       "      <td>22250.0</td>\n",
       "    </tr>\n",
       "    <tr>\n",
       "      <th>3</th>\n",
       "      <td>00:41.0</td>\n",
       "      <td>00:35.0</td>\n",
       "      <td>8a85890754145ace015429211b513e16</td>\n",
       "      <td>Good</td>\n",
       "      <td>10000</td>\n",
       "      <td>3</td>\n",
       "      <td>NaN</td>\n",
       "      <td>301999343</td>\n",
       "      <td>15</td>\n",
       "      <td>11500.0</td>\n",
       "    </tr>\n",
       "    <tr>\n",
       "      <th>4</th>\n",
       "      <td>42:45.0</td>\n",
       "      <td>42:39.0</td>\n",
       "      <td>8a858970548359cc0154883481981866</td>\n",
       "      <td>Good</td>\n",
       "      <td>40000</td>\n",
       "      <td>9</td>\n",
       "      <td>NaN</td>\n",
       "      <td>301962360</td>\n",
       "      <td>30</td>\n",
       "      <td>44000.0</td>\n",
       "    </tr>\n",
       "  </tbody>\n",
       "</table>\n",
       "</div>"
      ],
      "text/plain": [
       "  approveddate creationdate                        customerid good_bad_flag  \\\n",
       "0      22:56.0      22:47.0  8a2a81a74ce8c05d014cfb32a0da1049          Good   \n",
       "1      04:41.0      04:18.0  8a85886e54beabf90154c0a29ae757c0          Good   \n",
       "2      52:57.0      52:51.0  8a8588f35438fe12015444567666018e          Good   \n",
       "3      00:41.0      00:35.0  8a85890754145ace015429211b513e16          Good   \n",
       "4      42:45.0      42:39.0  8a858970548359cc0154883481981866          Good   \n",
       "\n",
       "   loanamount  loannumber referredby  systemloanid  termdays  totaldue  \n",
       "0       30000          12        NaN     301994762        30   34500.0  \n",
       "1       15000           2        NaN     301965204        30   17250.0  \n",
       "2       20000           7        NaN     301966580        15   22250.0  \n",
       "3       10000           3        NaN     301999343        15   11500.0  \n",
       "4       40000           9        NaN     301962360        30   44000.0  "
      ]
     },
     "execution_count": 5,
     "metadata": {},
     "output_type": "execute_result"
    }
   ],
   "source": [
    "data = perf\n",
    "data.head()"
   ]
  },
  {
   "cell_type": "code",
   "execution_count": 7,
   "metadata": {},
   "outputs": [],
   "source": [
    "data['referredby'] = data['referredby'].fillna(0)\n",
    "data['referredby'] = data['referredby'].apply(lambda x : 0 if x==0 else 1)"
   ]
  },
  {
   "cell_type": "code",
   "execution_count": 8,
   "metadata": {},
   "outputs": [],
   "source": [
    "data['interest'] = data['totaldue'] - data['loanamount']"
   ]
  },
  {
   "cell_type": "code",
   "execution_count": 15,
   "metadata": {},
   "outputs": [
    {
     "data": {
      "text/plain": [
       "3343.986344537815"
      ]
     },
     "execution_count": 15,
     "metadata": {},
     "output_type": "execute_result"
    }
   ],
   "source": [
    "data[(data.good_bad_flag==0)].interest.mean()"
   ]
  },
  {
   "cell_type": "code",
   "execution_count": 9,
   "metadata": {},
   "outputs": [],
   "source": [
    "data['loan_ratio'] = data.loanamount/data['loannumber']"
   ]
  },
  {
   "cell_type": "code",
   "execution_count": 10,
   "metadata": {},
   "outputs": [],
   "source": [
    "data['termdays'] = data['termdays'].replace({15:1,30:2,60:3,90:4})"
   ]
  },
  {
   "cell_type": "code",
   "execution_count": null,
   "metadata": {},
   "outputs": [],
   "source": [
    "count_class_1, count_class_0 = datas.good_bad_flag.value_counts()\n",
    "df_class_0 = datas[datas['good_bad_flag']==0]\n",
    "df_class_1 = datas[datas['good_bad_flag']==1]"
   ]
  },
  {
   "cell_type": "code",
   "execution_count": null,
   "metadata": {},
   "outputs": [],
   "source": [
    "datas.good_bad_flag.value_counts()"
   ]
  },
  {
   "cell_type": "code",
   "execution_count": null,
   "metadata": {},
   "outputs": [],
   "source": [
    "df_class_1_under = df_class_1.sample(count_class_0,replace=True)\n",
    "datas= pd.concat([df_class_1_under,df_class_0], axis=0)\n",
    "datas.shape"
   ]
  },
  {
   "cell_type": "markdown",
   "metadata": {},
   "source": [
    "# DEMOGRAPHICS"
   ]
  },
  {
   "cell_type": "code",
   "execution_count": 11,
   "metadata": {},
   "outputs": [],
   "source": [
    "train_demographics = pd.read_csv('traindemographics.csv')\n",
    "test_demographics = pd.read_csv('testdemographics.csv')"
   ]
  },
  {
   "cell_type": "code",
   "execution_count": 12,
   "metadata": {},
   "outputs": [
    {
     "data": {
      "text/plain": [
       "(5833, 9)"
      ]
     },
     "execution_count": 12,
     "metadata": {},
     "output_type": "execute_result"
    }
   ],
   "source": [
    "frames = [train_demographics,test_demographics]\n",
    "\n",
    "# Combine train & test\n",
    "demographics = pd.concat(frames)\n",
    "demographics.shape"
   ]
  },
  {
   "cell_type": "code",
   "execution_count": 13,
   "metadata": {},
   "outputs": [
    {
     "data": {
      "text/html": [
       "<div>\n",
       "<style>\n",
       "    .dataframe thead tr:only-child th {\n",
       "        text-align: right;\n",
       "    }\n",
       "\n",
       "    .dataframe thead th {\n",
       "        text-align: left;\n",
       "    }\n",
       "\n",
       "    .dataframe tbody tr th {\n",
       "        vertical-align: top;\n",
       "    }\n",
       "</style>\n",
       "<table border=\"1\" class=\"dataframe\">\n",
       "  <thead>\n",
       "    <tr style=\"text-align: right;\">\n",
       "      <th></th>\n",
       "      <th>customerid</th>\n",
       "      <th>birthdate</th>\n",
       "      <th>bank_account_type</th>\n",
       "      <th>longitude_gps</th>\n",
       "      <th>latitude_gps</th>\n",
       "      <th>bank_name_clients</th>\n",
       "      <th>bank_branch_clients</th>\n",
       "      <th>employment_status_clients</th>\n",
       "      <th>level_of_education_clients</th>\n",
       "    </tr>\n",
       "  </thead>\n",
       "  <tbody>\n",
       "    <tr>\n",
       "      <th>0</th>\n",
       "      <td>8a858e135cb22031015cbafc76964ebd</td>\n",
       "      <td>1973-10-10 00:00:00.000000</td>\n",
       "      <td>Savings</td>\n",
       "      <td>3.319219</td>\n",
       "      <td>6.528604</td>\n",
       "      <td>GT Bank</td>\n",
       "      <td>NaN</td>\n",
       "      <td>NaN</td>\n",
       "      <td>NaN</td>\n",
       "    </tr>\n",
       "    <tr>\n",
       "      <th>1</th>\n",
       "      <td>8a858e275c7ea5ec015c82482d7c3996</td>\n",
       "      <td>1986-01-21 00:00:00.000000</td>\n",
       "      <td>Savings</td>\n",
       "      <td>3.325598</td>\n",
       "      <td>7.119403</td>\n",
       "      <td>Sterling Bank</td>\n",
       "      <td>NaN</td>\n",
       "      <td>Permanent</td>\n",
       "      <td>NaN</td>\n",
       "    </tr>\n",
       "    <tr>\n",
       "      <th>2</th>\n",
       "      <td>8a858e5b5bd99460015bdc95cd485634</td>\n",
       "      <td>1987-04-01 00:00:00.000000</td>\n",
       "      <td>Savings</td>\n",
       "      <td>5.746100</td>\n",
       "      <td>5.563174</td>\n",
       "      <td>Fidelity Bank</td>\n",
       "      <td>NaN</td>\n",
       "      <td>NaN</td>\n",
       "      <td>NaN</td>\n",
       "    </tr>\n",
       "    <tr>\n",
       "      <th>3</th>\n",
       "      <td>8a858efd5ca70688015cabd1f1e94b55</td>\n",
       "      <td>1991-07-19 00:00:00.000000</td>\n",
       "      <td>Savings</td>\n",
       "      <td>3.362850</td>\n",
       "      <td>6.642485</td>\n",
       "      <td>GT Bank</td>\n",
       "      <td>NaN</td>\n",
       "      <td>Permanent</td>\n",
       "      <td>NaN</td>\n",
       "    </tr>\n",
       "    <tr>\n",
       "      <th>4</th>\n",
       "      <td>8a858e785acd3412015acd48f4920d04</td>\n",
       "      <td>1982-11-22 00:00:00.000000</td>\n",
       "      <td>Savings</td>\n",
       "      <td>8.455332</td>\n",
       "      <td>11.971410</td>\n",
       "      <td>GT Bank</td>\n",
       "      <td>NaN</td>\n",
       "      <td>Permanent</td>\n",
       "      <td>NaN</td>\n",
       "    </tr>\n",
       "  </tbody>\n",
       "</table>\n",
       "</div>"
      ],
      "text/plain": [
       "                         customerid                   birthdate  \\\n",
       "0  8a858e135cb22031015cbafc76964ebd  1973-10-10 00:00:00.000000   \n",
       "1  8a858e275c7ea5ec015c82482d7c3996  1986-01-21 00:00:00.000000   \n",
       "2  8a858e5b5bd99460015bdc95cd485634  1987-04-01 00:00:00.000000   \n",
       "3  8a858efd5ca70688015cabd1f1e94b55  1991-07-19 00:00:00.000000   \n",
       "4  8a858e785acd3412015acd48f4920d04  1982-11-22 00:00:00.000000   \n",
       "\n",
       "  bank_account_type  longitude_gps  latitude_gps bank_name_clients  \\\n",
       "0           Savings       3.319219      6.528604           GT Bank   \n",
       "1           Savings       3.325598      7.119403     Sterling Bank   \n",
       "2           Savings       5.746100      5.563174     Fidelity Bank   \n",
       "3           Savings       3.362850      6.642485           GT Bank   \n",
       "4           Savings       8.455332     11.971410           GT Bank   \n",
       "\n",
       "  bank_branch_clients employment_status_clients level_of_education_clients  \n",
       "0                 NaN                       NaN                        NaN  \n",
       "1                 NaN                 Permanent                        NaN  \n",
       "2                 NaN                       NaN                        NaN  \n",
       "3                 NaN                 Permanent                        NaN  \n",
       "4                 NaN                 Permanent                        NaN  "
      ]
     },
     "execution_count": 13,
     "metadata": {},
     "output_type": "execute_result"
    }
   ],
   "source": [
    "demographics.head()"
   ]
  },
  {
   "cell_type": "code",
   "execution_count": 14,
   "metadata": {},
   "outputs": [
    {
     "name": "stdout",
     "output_type": "stream",
     "text": [
      "(4346, 9) (1487, 9)\n"
     ]
    }
   ],
   "source": [
    "print(train_demographics.shape,test_demographics.shape)"
   ]
  },
  {
   "cell_type": "code",
   "execution_count": 15,
   "metadata": {},
   "outputs": [],
   "source": [
    "demographics = demographics.drop_duplicates(subset='customerid',keep='last')"
   ]
  },
  {
   "cell_type": "code",
   "execution_count": 16,
   "metadata": {},
   "outputs": [
    {
     "data": {
      "text/plain": [
       "0    1973-10-10\n",
       "1    1986-01-21\n",
       "2    1987-04-01\n",
       "3    1991-07-19\n",
       "4    1982-11-22\n",
       "Name: age, dtype: object"
      ]
     },
     "execution_count": 16,
     "metadata": {},
     "output_type": "execute_result"
    }
   ],
   "source": [
    "demographics['age'] = demographics['birthdate'].apply(lambda x: x.split().pop(0)[:10])\n",
    "# Check\n",
    "demographics['age'].head()"
   ]
  },
  {
   "cell_type": "code",
   "execution_count": 17,
   "metadata": {},
   "outputs": [],
   "source": [
    "demographics['age'] = demographics['age'].apply(lambda x: x.split('-'))\n",
    "\n",
    "# Convert all elements in each observation(list) from str to int\n",
    "demographics['age'] = demographics['age'].apply(lambda x: [int(y) for y in x ])\n",
    "\n",
    "# Convert each observation into a date format\n",
    "demographics['age'] = demographics['age'].apply(lambda x : date(x[0], x[1], x[2]))\n",
    "\n",
    "# Calculate Age!\n",
    "demographics['age'] = demographics['age'].apply(lambda x:(date(2017,7,1) - x) // timedelta(days=365.2425) )"
   ]
  },
  {
   "cell_type": "code",
   "execution_count": 18,
   "metadata": {},
   "outputs": [],
   "source": [
    "demographics = demographics.drop('level_of_education_clients',axis=1)\n",
    "demographics = demographics.drop('bank_branch_clients',axis=1)\n"
   ]
  },
  {
   "cell_type": "code",
   "execution_count": 19,
   "metadata": {},
   "outputs": [],
   "source": [
    "demographics.employment_status_clients.fillna(4,inplace=True)\n",
    "demographics.replace({'employment_status_clients':{'Self-employed':1,'Student':2,'Unemployed':3,\n",
    "                                                  'Retired':3,'Contract':1, 'Permanent':1}},inplace=True\n",
    "                    )\n",
    "demographics.replace({'bank_account_type':{'Current':1,'Other':2,'Savings':3}}, inplace=True)\n"
   ]
  },
  {
   "cell_type": "code",
   "execution_count": 20,
   "metadata": {},
   "outputs": [],
   "source": [
    "data = pd.merge(data, demographics, how='outer', on=['customerid'])"
   ]
  },
  {
   "cell_type": "markdown",
   "metadata": {},
   "source": [
    "# PREVIOUS LOANS"
   ]
  },
  {
   "cell_type": "code",
   "execution_count": 21,
   "metadata": {},
   "outputs": [],
   "source": [
    "train_prevloans = pd.read_csv('trainprevloans.csv')\n",
    "test_prevloans = pd.read_csv('testprevloans.csv')\n"
   ]
  },
  {
   "cell_type": "code",
   "execution_count": 22,
   "metadata": {},
   "outputs": [
    {
     "data": {
      "text/plain": [
       "(24090, 12)"
      ]
     },
     "execution_count": 22,
     "metadata": {},
     "output_type": "execute_result"
    }
   ],
   "source": [
    "frames = [train_prevloans,test_prevloans]\n",
    "previous_loans = pd.concat(frames)\n",
    "previous_loans.shape"
   ]
  },
  {
   "cell_type": "code",
   "execution_count": 39,
   "metadata": {},
   "outputs": [
    {
     "data": {
      "text/html": [
       "<div>\n",
       "<style>\n",
       "    .dataframe thead tr:only-child th {\n",
       "        text-align: right;\n",
       "    }\n",
       "\n",
       "    .dataframe thead th {\n",
       "        text-align: left;\n",
       "    }\n",
       "\n",
       "    .dataframe tbody tr th {\n",
       "        vertical-align: top;\n",
       "    }\n",
       "</style>\n",
       "<table border=\"1\" class=\"dataframe\">\n",
       "  <thead>\n",
       "    <tr style=\"text-align: right;\">\n",
       "      <th></th>\n",
       "      <th>customerid</th>\n",
       "      <th>systemloanid</th>\n",
       "      <th>loannumber</th>\n",
       "      <th>approveddate</th>\n",
       "      <th>creationdate</th>\n",
       "      <th>loanamount</th>\n",
       "      <th>totaldue</th>\n",
       "      <th>termdays</th>\n",
       "      <th>closeddate</th>\n",
       "      <th>referredby</th>\n",
       "      <th>firstduedate</th>\n",
       "      <th>firstrepaiddate</th>\n",
       "    </tr>\n",
       "  </thead>\n",
       "  <tbody>\n",
       "    <tr>\n",
       "      <th>0</th>\n",
       "      <td>8a2a81a74ce8c05d014cfb32a0da1049</td>\n",
       "      <td>301682320</td>\n",
       "      <td>2</td>\n",
       "      <td>2016-08-15 18:22:40.000000</td>\n",
       "      <td>2016-08-15 17:22:32.000000</td>\n",
       "      <td>10000.0</td>\n",
       "      <td>13000.0</td>\n",
       "      <td>30</td>\n",
       "      <td>2016-09-01 16:06:48.000000</td>\n",
       "      <td>NaN</td>\n",
       "      <td>2016-09-14 00:00:00.000000</td>\n",
       "      <td>2016-09-01 15:51:43.000000</td>\n",
       "    </tr>\n",
       "    <tr>\n",
       "      <th>1</th>\n",
       "      <td>8a2a81a74ce8c05d014cfb32a0da1049</td>\n",
       "      <td>301883808</td>\n",
       "      <td>9</td>\n",
       "      <td>2017-04-28 18:39:07.000000</td>\n",
       "      <td>2017-04-28 17:38:53.000000</td>\n",
       "      <td>10000.0</td>\n",
       "      <td>13000.0</td>\n",
       "      <td>30</td>\n",
       "      <td>2017-05-28 14:44:49.000000</td>\n",
       "      <td>NaN</td>\n",
       "      <td>2017-05-30 00:00:00.000000</td>\n",
       "      <td>2017-05-26 00:00:00.000000</td>\n",
       "    </tr>\n",
       "    <tr>\n",
       "      <th>2</th>\n",
       "      <td>8a2a81a74ce8c05d014cfb32a0da1049</td>\n",
       "      <td>301831714</td>\n",
       "      <td>8</td>\n",
       "      <td>2017-03-05 10:56:25.000000</td>\n",
       "      <td>2017-03-05 09:56:19.000000</td>\n",
       "      <td>20000.0</td>\n",
       "      <td>23800.0</td>\n",
       "      <td>30</td>\n",
       "      <td>2017-04-26 22:18:56.000000</td>\n",
       "      <td>NaN</td>\n",
       "      <td>2017-04-04 00:00:00.000000</td>\n",
       "      <td>2017-04-26 22:03:47.000000</td>\n",
       "    </tr>\n",
       "    <tr>\n",
       "      <th>3</th>\n",
       "      <td>8a8588f35438fe12015444567666018e</td>\n",
       "      <td>301861541</td>\n",
       "      <td>5</td>\n",
       "      <td>2017-04-09 18:25:55.000000</td>\n",
       "      <td>2017-04-09 17:25:42.000000</td>\n",
       "      <td>10000.0</td>\n",
       "      <td>11500.0</td>\n",
       "      <td>15</td>\n",
       "      <td>2017-04-24 01:35:52.000000</td>\n",
       "      <td>NaN</td>\n",
       "      <td>2017-04-24 00:00:00.000000</td>\n",
       "      <td>2017-04-24 00:48:43.000000</td>\n",
       "    </tr>\n",
       "    <tr>\n",
       "      <th>4</th>\n",
       "      <td>8a85890754145ace015429211b513e16</td>\n",
       "      <td>301941754</td>\n",
       "      <td>2</td>\n",
       "      <td>2017-06-17 09:29:57.000000</td>\n",
       "      <td>2017-06-17 08:29:50.000000</td>\n",
       "      <td>10000.0</td>\n",
       "      <td>11500.0</td>\n",
       "      <td>15</td>\n",
       "      <td>2017-07-14 21:18:43.000000</td>\n",
       "      <td>NaN</td>\n",
       "      <td>2017-07-03 00:00:00.000000</td>\n",
       "      <td>2017-07-14 21:08:35.000000</td>\n",
       "    </tr>\n",
       "  </tbody>\n",
       "</table>\n",
       "</div>"
      ],
      "text/plain": [
       "                         customerid  systemloanid  loannumber  \\\n",
       "0  8a2a81a74ce8c05d014cfb32a0da1049     301682320           2   \n",
       "1  8a2a81a74ce8c05d014cfb32a0da1049     301883808           9   \n",
       "2  8a2a81a74ce8c05d014cfb32a0da1049     301831714           8   \n",
       "3  8a8588f35438fe12015444567666018e     301861541           5   \n",
       "4  8a85890754145ace015429211b513e16     301941754           2   \n",
       "\n",
       "                 approveddate                creationdate  loanamount  \\\n",
       "0  2016-08-15 18:22:40.000000  2016-08-15 17:22:32.000000     10000.0   \n",
       "1  2017-04-28 18:39:07.000000  2017-04-28 17:38:53.000000     10000.0   \n",
       "2  2017-03-05 10:56:25.000000  2017-03-05 09:56:19.000000     20000.0   \n",
       "3  2017-04-09 18:25:55.000000  2017-04-09 17:25:42.000000     10000.0   \n",
       "4  2017-06-17 09:29:57.000000  2017-06-17 08:29:50.000000     10000.0   \n",
       "\n",
       "   totaldue  termdays                  closeddate referredby  \\\n",
       "0   13000.0        30  2016-09-01 16:06:48.000000        NaN   \n",
       "1   13000.0        30  2017-05-28 14:44:49.000000        NaN   \n",
       "2   23800.0        30  2017-04-26 22:18:56.000000        NaN   \n",
       "3   11500.0        15  2017-04-24 01:35:52.000000        NaN   \n",
       "4   11500.0        15  2017-07-14 21:18:43.000000        NaN   \n",
       "\n",
       "                 firstduedate             firstrepaiddate  \n",
       "0  2016-09-14 00:00:00.000000  2016-09-01 15:51:43.000000  \n",
       "1  2017-05-30 00:00:00.000000  2017-05-26 00:00:00.000000  \n",
       "2  2017-04-04 00:00:00.000000  2017-04-26 22:03:47.000000  \n",
       "3  2017-04-24 00:00:00.000000  2017-04-24 00:48:43.000000  \n",
       "4  2017-07-03 00:00:00.000000  2017-07-14 21:08:35.000000  "
      ]
     },
     "execution_count": 39,
     "metadata": {},
     "output_type": "execute_result"
    }
   ],
   "source": [
    "previous_loans.head()"
   ]
  },
  {
   "cell_type": "code",
   "execution_count": 23,
   "metadata": {},
   "outputs": [
    {
     "data": {
      "text/plain": [
       "(5801, 5)"
      ]
     },
     "execution_count": 23,
     "metadata": {},
     "output_type": "execute_result"
    }
   ],
   "source": [
    "grouped = previous_loans[['customerid','loanamount','totaldue','loannumber','termdays']].groupby('customerid').sum()\n",
    "grouped = grouped.reset_index()\n",
    "grouped.columns = ['customerid','avg_loanamount','avg_totaldue','avg_loan','avg_term']\n",
    "grouped.shape"
   ]
  },
  {
   "cell_type": "code",
   "execution_count": null,
   "metadata": {},
   "outputs": [],
   "source": [
    "grouped = previous_loans[['customerid','loanamount','totaldue','loannumber','termdays']].groupby('customerid').mean()\n",
    "grouped = grouped.reset_index()\n",
    "grouped.columns = ['customerid','avg_loanamount','avg_totaldue','avg_loan','avg_term']\n",
    "grouped.shape"
   ]
  },
  {
   "cell_type": "code",
   "execution_count": 24,
   "metadata": {},
   "outputs": [],
   "source": [
    "data = pd.merge(data, grouped, how='outer', on=['customerid'])"
   ]
  },
  {
   "cell_type": "code",
   "execution_count": 25,
   "metadata": {},
   "outputs": [],
   "source": [
    "previous_loans['firstduedate'] = previous_loans['firstduedate'].apply(lambda x: x.split().pop(0)[:10])\n",
    "previous_loans['firstrepaiddate'] = previous_loans['firstrepaiddate'].apply(lambda x: x.split().pop(0)[:10])"
   ]
  },
  {
   "cell_type": "code",
   "execution_count": 26,
   "metadata": {},
   "outputs": [],
   "source": [
    "previous_loans['firstduedate'] = previous_loans['firstduedate'].apply(lambda x: x.split('-'))\n",
    "\n",
    "# Convert all elements in each observation(list) from str to int\n",
    "previous_loans['firstduedate'] = previous_loans['firstduedate'].apply(lambda x: [int(y) for y in x ])\n",
    "\n",
    "# Convert each observation into a date format\n",
    "previous_loans['firstduedate'] = previous_loans['firstduedate'].apply(lambda x : date(x[0], x[1], x[2]))\n",
    "\n",
    "# Split the  date (This converts each observation into a list)\n",
    "previous_loans['firstrepaiddate'] = previous_loans['firstrepaiddate'].apply(lambda x: x.split('-'))\n",
    "\n",
    "# Convert all elements in each observation(list) from str to int\n",
    "previous_loans['firstrepaiddate'] = previous_loans['firstrepaiddate'].apply(lambda x: [int(y) for y in x ])\n",
    "\n",
    "# Convert each observation into a date format\n",
    "previous_loans['firstrepaiddate'] = previous_loans['firstrepaiddate'].apply(lambda x : date(x[0], x[1], x[2]))\n",
    "\n",
    "# Calculate repayment_score\n",
    "previous_loans['repayment_score'] = previous_loans['firstduedate'] - previous_loans['firstrepaiddate']"
   ]
  },
  {
   "cell_type": "code",
   "execution_count": 44,
   "metadata": {},
   "outputs": [
    {
     "data": {
      "text/html": [
       "<div>\n",
       "<style>\n",
       "    .dataframe thead tr:only-child th {\n",
       "        text-align: right;\n",
       "    }\n",
       "\n",
       "    .dataframe thead th {\n",
       "        text-align: left;\n",
       "    }\n",
       "\n",
       "    .dataframe tbody tr th {\n",
       "        vertical-align: top;\n",
       "    }\n",
       "</style>\n",
       "<table border=\"1\" class=\"dataframe\">\n",
       "  <thead>\n",
       "    <tr style=\"text-align: right;\">\n",
       "      <th></th>\n",
       "      <th>customerid</th>\n",
       "      <th>systemloanid</th>\n",
       "      <th>loannumber</th>\n",
       "      <th>approveddate</th>\n",
       "      <th>creationdate</th>\n",
       "      <th>loanamount</th>\n",
       "      <th>totaldue</th>\n",
       "      <th>termdays</th>\n",
       "      <th>closeddate</th>\n",
       "      <th>referredby</th>\n",
       "      <th>firstduedate</th>\n",
       "      <th>firstrepaiddate</th>\n",
       "      <th>repayment_score</th>\n",
       "    </tr>\n",
       "  </thead>\n",
       "  <tbody>\n",
       "    <tr>\n",
       "      <th>0</th>\n",
       "      <td>8a2a81a74ce8c05d014cfb32a0da1049</td>\n",
       "      <td>301682320</td>\n",
       "      <td>2</td>\n",
       "      <td>2016-08-15 18:22:40.000000</td>\n",
       "      <td>2016-08-15 17:22:32.000000</td>\n",
       "      <td>10000.0</td>\n",
       "      <td>13000.0</td>\n",
       "      <td>30</td>\n",
       "      <td>2016-09-01 16:06:48.000000</td>\n",
       "      <td>NaN</td>\n",
       "      <td>2016-09-14</td>\n",
       "      <td>2016-09-01</td>\n",
       "      <td>13 days</td>\n",
       "    </tr>\n",
       "    <tr>\n",
       "      <th>1</th>\n",
       "      <td>8a2a81a74ce8c05d014cfb32a0da1049</td>\n",
       "      <td>301883808</td>\n",
       "      <td>9</td>\n",
       "      <td>2017-04-28 18:39:07.000000</td>\n",
       "      <td>2017-04-28 17:38:53.000000</td>\n",
       "      <td>10000.0</td>\n",
       "      <td>13000.0</td>\n",
       "      <td>30</td>\n",
       "      <td>2017-05-28 14:44:49.000000</td>\n",
       "      <td>NaN</td>\n",
       "      <td>2017-05-30</td>\n",
       "      <td>2017-05-26</td>\n",
       "      <td>4 days</td>\n",
       "    </tr>\n",
       "    <tr>\n",
       "      <th>2</th>\n",
       "      <td>8a2a81a74ce8c05d014cfb32a0da1049</td>\n",
       "      <td>301831714</td>\n",
       "      <td>8</td>\n",
       "      <td>2017-03-05 10:56:25.000000</td>\n",
       "      <td>2017-03-05 09:56:19.000000</td>\n",
       "      <td>20000.0</td>\n",
       "      <td>23800.0</td>\n",
       "      <td>30</td>\n",
       "      <td>2017-04-26 22:18:56.000000</td>\n",
       "      <td>NaN</td>\n",
       "      <td>2017-04-04</td>\n",
       "      <td>2017-04-26</td>\n",
       "      <td>-22 days</td>\n",
       "    </tr>\n",
       "    <tr>\n",
       "      <th>3</th>\n",
       "      <td>8a8588f35438fe12015444567666018e</td>\n",
       "      <td>301861541</td>\n",
       "      <td>5</td>\n",
       "      <td>2017-04-09 18:25:55.000000</td>\n",
       "      <td>2017-04-09 17:25:42.000000</td>\n",
       "      <td>10000.0</td>\n",
       "      <td>11500.0</td>\n",
       "      <td>15</td>\n",
       "      <td>2017-04-24 01:35:52.000000</td>\n",
       "      <td>NaN</td>\n",
       "      <td>2017-04-24</td>\n",
       "      <td>2017-04-24</td>\n",
       "      <td>0 days</td>\n",
       "    </tr>\n",
       "    <tr>\n",
       "      <th>4</th>\n",
       "      <td>8a85890754145ace015429211b513e16</td>\n",
       "      <td>301941754</td>\n",
       "      <td>2</td>\n",
       "      <td>2017-06-17 09:29:57.000000</td>\n",
       "      <td>2017-06-17 08:29:50.000000</td>\n",
       "      <td>10000.0</td>\n",
       "      <td>11500.0</td>\n",
       "      <td>15</td>\n",
       "      <td>2017-07-14 21:18:43.000000</td>\n",
       "      <td>NaN</td>\n",
       "      <td>2017-07-03</td>\n",
       "      <td>2017-07-14</td>\n",
       "      <td>-11 days</td>\n",
       "    </tr>\n",
       "  </tbody>\n",
       "</table>\n",
       "</div>"
      ],
      "text/plain": [
       "                         customerid  systemloanid  loannumber  \\\n",
       "0  8a2a81a74ce8c05d014cfb32a0da1049     301682320           2   \n",
       "1  8a2a81a74ce8c05d014cfb32a0da1049     301883808           9   \n",
       "2  8a2a81a74ce8c05d014cfb32a0da1049     301831714           8   \n",
       "3  8a8588f35438fe12015444567666018e     301861541           5   \n",
       "4  8a85890754145ace015429211b513e16     301941754           2   \n",
       "\n",
       "                 approveddate                creationdate  loanamount  \\\n",
       "0  2016-08-15 18:22:40.000000  2016-08-15 17:22:32.000000     10000.0   \n",
       "1  2017-04-28 18:39:07.000000  2017-04-28 17:38:53.000000     10000.0   \n",
       "2  2017-03-05 10:56:25.000000  2017-03-05 09:56:19.000000     20000.0   \n",
       "3  2017-04-09 18:25:55.000000  2017-04-09 17:25:42.000000     10000.0   \n",
       "4  2017-06-17 09:29:57.000000  2017-06-17 08:29:50.000000     10000.0   \n",
       "\n",
       "   totaldue  termdays                  closeddate referredby firstduedate  \\\n",
       "0   13000.0        30  2016-09-01 16:06:48.000000        NaN   2016-09-14   \n",
       "1   13000.0        30  2017-05-28 14:44:49.000000        NaN   2017-05-30   \n",
       "2   23800.0        30  2017-04-26 22:18:56.000000        NaN   2017-04-04   \n",
       "3   11500.0        15  2017-04-24 01:35:52.000000        NaN   2017-04-24   \n",
       "4   11500.0        15  2017-07-14 21:18:43.000000        NaN   2017-07-03   \n",
       "\n",
       "  firstrepaiddate repayment_score  \n",
       "0      2016-09-01         13 days  \n",
       "1      2017-05-26          4 days  \n",
       "2      2017-04-26        -22 days  \n",
       "3      2017-04-24          0 days  \n",
       "4      2017-07-14        -11 days  "
      ]
     },
     "execution_count": 44,
     "metadata": {},
     "output_type": "execute_result"
    }
   ],
   "source": [
    "previous_loans.head()"
   ]
  },
  {
   "cell_type": "code",
   "execution_count": 27,
   "metadata": {},
   "outputs": [],
   "source": [
    "previous_loans['repayment_score'] = previous_loans['repayment_score'].astype('str').apply(lambda x: int(x.strip(' ')[:2]))"
   ]
  },
  {
   "cell_type": "code",
   "execution_count": 30,
   "metadata": {},
   "outputs": [],
   "source": [
    "grouped = previous_loans[['customerid','repayment_score','duration','loan_settling']].groupby('customerid').sum()\n",
    "grouped = grouped.reset_index()"
   ]
  },
  {
   "cell_type": "markdown",
   "metadata": {},
   "source": [
    "# HELPING HANDS"
   ]
  },
  {
   "cell_type": "code",
   "execution_count": 28,
   "metadata": {},
   "outputs": [],
   "source": [
    "from datetime import datetime as dt\n",
    "def duration(data):\n",
    "    data['closeddate']= pd.to_datetime(data['closeddate'])\n",
    "    data['approveddate']=pd.to_datetime(data['approveddate'])\n",
    "    data['duration'] = data['closeddate'] - data['approveddate']\n",
    "    data['duration'].apply(lambda x:x.days)\n",
    "    data['duration'] = data['duration'].dt.total_seconds() / 86400\n",
    "    return data\n",
    "\n",
    "\n",
    "def interest_rate(data):\n",
    "    data['interestrate'] = (data['interest']/data['loanamount']) * 100\n",
    "    return data\n",
    "\n",
    "def loan_settling(data):\n",
    "    data.firstduedate= pd.to_datetime(data.firstduedate)\n",
    "    data.closeddate= pd.to_datetime(data.closeddate)\n",
    "    data['loan_settling'] = data['firstduedate'] - data['closeddate']\n",
    "    data['loan_settling'].apply(lambda x:x.days)\n",
    "    data['loan_settling'] = data['loan_settling'].dt.total_seconds() / 86400\n",
    "    data['loan_settling'] = data['loan_settling'].map(lambda x:1 if x >= 0 else 0)\n",
    "    return data"
   ]
  },
  {
   "cell_type": "code",
   "execution_count": 29,
   "metadata": {},
   "outputs": [],
   "source": [
    "previous_loans = duration(previous_loans)\n",
    "\n",
    "#data without the previous loan\n",
    "data = interest_rate(data)\n",
    "\n",
    "previous_loans = loan_settling(previous_loans)"
   ]
  },
  {
   "cell_type": "code",
   "execution_count": null,
   "metadata": {},
   "outputs": [],
   "source": [
    "len(previous_loans['duration'])"
   ]
  },
  {
   "cell_type": "code",
   "execution_count": 31,
   "metadata": {},
   "outputs": [],
   "source": [
    "data = pd.merge(data, grouped, how='outer', on=['customerid'])"
   ]
  },
  {
   "cell_type": "code",
   "execution_count": 52,
   "metadata": {},
   "outputs": [
    {
     "data": {
      "text/html": [
       "<div>\n",
       "<style>\n",
       "    .dataframe thead tr:only-child th {\n",
       "        text-align: right;\n",
       "    }\n",
       "\n",
       "    .dataframe thead th {\n",
       "        text-align: left;\n",
       "    }\n",
       "\n",
       "    .dataframe tbody tr th {\n",
       "        vertical-align: top;\n",
       "    }\n",
       "</style>\n",
       "<table border=\"1\" class=\"dataframe\">\n",
       "  <thead>\n",
       "    <tr style=\"text-align: right;\">\n",
       "      <th></th>\n",
       "      <th>approveddate</th>\n",
       "      <th>creationdate</th>\n",
       "      <th>customerid</th>\n",
       "      <th>good_bad_flag</th>\n",
       "      <th>loanamount</th>\n",
       "      <th>loannumber</th>\n",
       "      <th>referredby</th>\n",
       "      <th>systemloanid</th>\n",
       "      <th>termdays</th>\n",
       "      <th>totaldue</th>\n",
       "      <th>...</th>\n",
       "      <th>employment_status_clients</th>\n",
       "      <th>age</th>\n",
       "      <th>avg_loanamount</th>\n",
       "      <th>avg_totaldue</th>\n",
       "      <th>avg_loan</th>\n",
       "      <th>avg_term</th>\n",
       "      <th>interestrate</th>\n",
       "      <th>repayment_score</th>\n",
       "      <th>duration</th>\n",
       "      <th>loan_settling</th>\n",
       "    </tr>\n",
       "  </thead>\n",
       "  <tbody>\n",
       "    <tr>\n",
       "      <th>0</th>\n",
       "      <td>22:56.0</td>\n",
       "      <td>22:47.0</td>\n",
       "      <td>8a2a81a74ce8c05d014cfb32a0da1049</td>\n",
       "      <td>1.0</td>\n",
       "      <td>30000</td>\n",
       "      <td>12</td>\n",
       "      <td>NaN</td>\n",
       "      <td>301994762</td>\n",
       "      <td>2</td>\n",
       "      <td>34500.0</td>\n",
       "      <td>...</td>\n",
       "      <td>1</td>\n",
       "      <td>45</td>\n",
       "      <td>200000.0</td>\n",
       "      <td>242900.0</td>\n",
       "      <td>66.0</td>\n",
       "      <td>330.0</td>\n",
       "      <td>15.00</td>\n",
       "      <td>79.0</td>\n",
       "      <td>329.606019</td>\n",
       "      <td>7.0</td>\n",
       "    </tr>\n",
       "    <tr>\n",
       "      <th>1</th>\n",
       "      <td>04:41.0</td>\n",
       "      <td>04:18.0</td>\n",
       "      <td>8a85886e54beabf90154c0a29ae757c0</td>\n",
       "      <td>1.0</td>\n",
       "      <td>15000</td>\n",
       "      <td>2</td>\n",
       "      <td>NaN</td>\n",
       "      <td>301965204</td>\n",
       "      <td>2</td>\n",
       "      <td>17250.0</td>\n",
       "      <td>...</td>\n",
       "      <td>1</td>\n",
       "      <td>31</td>\n",
       "      <td>NaN</td>\n",
       "      <td>NaN</td>\n",
       "      <td>NaN</td>\n",
       "      <td>NaN</td>\n",
       "      <td>15.00</td>\n",
       "      <td>NaN</td>\n",
       "      <td>NaN</td>\n",
       "      <td>NaN</td>\n",
       "    </tr>\n",
       "    <tr>\n",
       "      <th>2</th>\n",
       "      <td>52:57.0</td>\n",
       "      <td>52:51.0</td>\n",
       "      <td>8a8588f35438fe12015444567666018e</td>\n",
       "      <td>1.0</td>\n",
       "      <td>20000</td>\n",
       "      <td>7</td>\n",
       "      <td>NaN</td>\n",
       "      <td>301966580</td>\n",
       "      <td>1</td>\n",
       "      <td>22250.0</td>\n",
       "      <td>...</td>\n",
       "      <td>1</td>\n",
       "      <td>32</td>\n",
       "      <td>60000.0</td>\n",
       "      <td>70500.0</td>\n",
       "      <td>21.0</td>\n",
       "      <td>105.0</td>\n",
       "      <td>11.25</td>\n",
       "      <td>22.0</td>\n",
       "      <td>111.953519</td>\n",
       "      <td>3.0</td>\n",
       "    </tr>\n",
       "    <tr>\n",
       "      <th>3</th>\n",
       "      <td>00:41.0</td>\n",
       "      <td>00:35.0</td>\n",
       "      <td>8a85890754145ace015429211b513e16</td>\n",
       "      <td>1.0</td>\n",
       "      <td>10000</td>\n",
       "      <td>3</td>\n",
       "      <td>NaN</td>\n",
       "      <td>301999343</td>\n",
       "      <td>1</td>\n",
       "      <td>11500.0</td>\n",
       "      <td>...</td>\n",
       "      <td>1</td>\n",
       "      <td>39</td>\n",
       "      <td>20000.0</td>\n",
       "      <td>24500.0</td>\n",
       "      <td>3.0</td>\n",
       "      <td>45.0</td>\n",
       "      <td>15.00</td>\n",
       "      <td>-5.0</td>\n",
       "      <td>63.683981</td>\n",
       "      <td>0.0</td>\n",
       "    </tr>\n",
       "    <tr>\n",
       "      <th>4</th>\n",
       "      <td>42:45.0</td>\n",
       "      <td>42:39.0</td>\n",
       "      <td>8a858970548359cc0154883481981866</td>\n",
       "      <td>1.0</td>\n",
       "      <td>40000</td>\n",
       "      <td>9</td>\n",
       "      <td>NaN</td>\n",
       "      <td>301962360</td>\n",
       "      <td>2</td>\n",
       "      <td>44000.0</td>\n",
       "      <td>...</td>\n",
       "      <td>1</td>\n",
       "      <td>30</td>\n",
       "      <td>150000.0</td>\n",
       "      <td>188400.0</td>\n",
       "      <td>36.0</td>\n",
       "      <td>300.0</td>\n",
       "      <td>10.00</td>\n",
       "      <td>25.0</td>\n",
       "      <td>220.517616</td>\n",
       "      <td>8.0</td>\n",
       "    </tr>\n",
       "    <tr>\n",
       "      <th>5</th>\n",
       "      <td>46:24.0</td>\n",
       "      <td>46:18.0</td>\n",
       "      <td>8a8589f35451855401546b0738c42524</td>\n",
       "      <td>1.0</td>\n",
       "      <td>30000</td>\n",
       "      <td>8</td>\n",
       "      <td>NaN</td>\n",
       "      <td>301986516</td>\n",
       "      <td>3</td>\n",
       "      <td>39000.0</td>\n",
       "      <td>...</td>\n",
       "      <td>1</td>\n",
       "      <td>44</td>\n",
       "      <td>100000.0</td>\n",
       "      <td>124800.0</td>\n",
       "      <td>28.0</td>\n",
       "      <td>210.0</td>\n",
       "      <td>30.00</td>\n",
       "      <td>38.0</td>\n",
       "      <td>176.417894</td>\n",
       "      <td>4.0</td>\n",
       "    </tr>\n",
       "    <tr>\n",
       "      <th>6</th>\n",
       "      <td>25:33.0</td>\n",
       "      <td>25:28.0</td>\n",
       "      <td>8a858e095c59b91b015c5e5cea3719bc</td>\n",
       "      <td>1.0</td>\n",
       "      <td>10000</td>\n",
       "      <td>3</td>\n",
       "      <td>NaN</td>\n",
       "      <td>301972027</td>\n",
       "      <td>2</td>\n",
       "      <td>13000.0</td>\n",
       "      <td>...</td>\n",
       "      <td>1</td>\n",
       "      <td>28</td>\n",
       "      <td>20000.0</td>\n",
       "      <td>24500.0</td>\n",
       "      <td>3.0</td>\n",
       "      <td>45.0</td>\n",
       "      <td>30.00</td>\n",
       "      <td>5.0</td>\n",
       "      <td>40.004525</td>\n",
       "      <td>2.0</td>\n",
       "    </tr>\n",
       "    <tr>\n",
       "      <th>7</th>\n",
       "      <td>42:27.0</td>\n",
       "      <td>42:21.0</td>\n",
       "      <td>8a858e1158dc4d830158f7bde4f47ea7</td>\n",
       "      <td>1.0</td>\n",
       "      <td>30000</td>\n",
       "      <td>10</td>\n",
       "      <td>NaN</td>\n",
       "      <td>301994428</td>\n",
       "      <td>2</td>\n",
       "      <td>34500.0</td>\n",
       "      <td>...</td>\n",
       "      <td>NaN</td>\n",
       "      <td>29</td>\n",
       "      <td>180000.0</td>\n",
       "      <td>207000.0</td>\n",
       "      <td>45.0</td>\n",
       "      <td>210.0</td>\n",
       "      <td>15.00</td>\n",
       "      <td>9.0</td>\n",
       "      <td>202.611586</td>\n",
       "      <td>5.0</td>\n",
       "    </tr>\n",
       "  </tbody>\n",
       "</table>\n",
       "<p>8 rows × 26 columns</p>\n",
       "</div>"
      ],
      "text/plain": [
       "  approveddate creationdate                        customerid  good_bad_flag  \\\n",
       "0      22:56.0      22:47.0  8a2a81a74ce8c05d014cfb32a0da1049            1.0   \n",
       "1      04:41.0      04:18.0  8a85886e54beabf90154c0a29ae757c0            1.0   \n",
       "2      52:57.0      52:51.0  8a8588f35438fe12015444567666018e            1.0   \n",
       "3      00:41.0      00:35.0  8a85890754145ace015429211b513e16            1.0   \n",
       "4      42:45.0      42:39.0  8a858970548359cc0154883481981866            1.0   \n",
       "5      46:24.0      46:18.0  8a8589f35451855401546b0738c42524            1.0   \n",
       "6      25:33.0      25:28.0  8a858e095c59b91b015c5e5cea3719bc            1.0   \n",
       "7      42:27.0      42:21.0  8a858e1158dc4d830158f7bde4f47ea7            1.0   \n",
       "\n",
       "   loanamount  loannumber referredby  systemloanid  termdays  totaldue  \\\n",
       "0       30000          12        NaN     301994762         2   34500.0   \n",
       "1       15000           2        NaN     301965204         2   17250.0   \n",
       "2       20000           7        NaN     301966580         1   22250.0   \n",
       "3       10000           3        NaN     301999343         1   11500.0   \n",
       "4       40000           9        NaN     301962360         2   44000.0   \n",
       "5       30000           8        NaN     301986516         3   39000.0   \n",
       "6       10000           3        NaN     301972027         2   13000.0   \n",
       "7       30000          10        NaN     301994428         2   34500.0   \n",
       "\n",
       "       ...        employment_status_clients age  avg_loanamount  avg_totaldue  \\\n",
       "0      ...                                1  45        200000.0      242900.0   \n",
       "1      ...                                1  31             NaN           NaN   \n",
       "2      ...                                1  32         60000.0       70500.0   \n",
       "3      ...                                1  39         20000.0       24500.0   \n",
       "4      ...                                1  30        150000.0      188400.0   \n",
       "5      ...                                1  44        100000.0      124800.0   \n",
       "6      ...                                1  28         20000.0       24500.0   \n",
       "7      ...                              NaN  29        180000.0      207000.0   \n",
       "\n",
       "   avg_loan avg_term interestrate  repayment_score    duration  loan_settling  \n",
       "0      66.0    330.0        15.00             79.0  329.606019            7.0  \n",
       "1       NaN      NaN        15.00              NaN         NaN            NaN  \n",
       "2      21.0    105.0        11.25             22.0  111.953519            3.0  \n",
       "3       3.0     45.0        15.00             -5.0   63.683981            0.0  \n",
       "4      36.0    300.0        10.00             25.0  220.517616            8.0  \n",
       "5      28.0    210.0        30.00             38.0  176.417894            4.0  \n",
       "6       3.0     45.0        30.00              5.0   40.004525            2.0  \n",
       "7      45.0    210.0        15.00              9.0  202.611586            5.0  \n",
       "\n",
       "[8 rows x 26 columns]"
      ]
     },
     "execution_count": 52,
     "metadata": {},
     "output_type": "execute_result"
    }
   ],
   "source": [
    "data.head(8)"
   ]
  },
  {
   "cell_type": "code",
   "execution_count": 33,
   "metadata": {},
   "outputs": [],
   "source": [
    "data[['avg_loanamount','avg_totaldue','avg_loan','avg_term']] = data[['avg_loanamount','avg_totaldue','avg_loan','avg_term']].fillna(0)"
   ]
  },
  {
   "cell_type": "code",
   "execution_count": 32,
   "metadata": {},
   "outputs": [],
   "source": [
    "data['avg_loanamount'] = data['avg_loanamount'].fillna(data['avg_loanamount'].dropna().mean())\n",
    "data['avg_totaldue'] = data['avg_totaldue'].fillna(data['avg_totaldue'].dropna().mean())\n",
    "data['avg_loan'] = data['avg_loan'].fillna(data['avg_loan'].dropna().mean())\n",
    "data['loan_settling'] = data['loan_settling'].fillna(data['loan_settling'].dropna().mean())\n",
    "data['repayment_score'] = data['repayment_score'].fillna(data['repayment_score'].dropna().mean())"
   ]
  },
  {
   "cell_type": "code",
   "execution_count": 59,
   "metadata": {},
   "outputs": [],
   "source": [
    "train_data['duration'] = train_data['duration'].fillna(train_data['duration'].dropna().mean())"
   ]
  },
  {
   "cell_type": "code",
   "execution_count": null,
   "metadata": {},
   "outputs": [],
   "source": [
    "data[['repayment_score','duration','loan_settling']] = data[['repayment_score','duration','loan_settling']].fillna(0)"
   ]
  },
  {
   "cell_type": "code",
   "execution_count": 33,
   "metadata": {},
   "outputs": [],
   "source": [
    "data['avg_interest'] = data['avg_totaldue'] - data['avg_loanamount']"
   ]
  },
  {
   "cell_type": "markdown",
   "metadata": {},
   "source": [
    "# FEATURE ENGINEERING"
   ]
  },
  {
   "cell_type": "code",
   "execution_count": 35,
   "metadata": {},
   "outputs": [
    {
     "data": {
      "text/html": [
       "<div>\n",
       "<style>\n",
       "    .dataframe thead tr:only-child th {\n",
       "        text-align: right;\n",
       "    }\n",
       "\n",
       "    .dataframe thead th {\n",
       "        text-align: left;\n",
       "    }\n",
       "\n",
       "    .dataframe tbody tr th {\n",
       "        vertical-align: top;\n",
       "    }\n",
       "</style>\n",
       "<table border=\"1\" class=\"dataframe\">\n",
       "  <thead>\n",
       "    <tr style=\"text-align: right;\">\n",
       "      <th></th>\n",
       "      <th>approveddate</th>\n",
       "      <th>creationdate</th>\n",
       "      <th>customerid</th>\n",
       "      <th>good_bad_flag</th>\n",
       "      <th>loanamount</th>\n",
       "      <th>loannumber</th>\n",
       "      <th>referredby</th>\n",
       "      <th>systemloanid</th>\n",
       "      <th>termdays</th>\n",
       "      <th>totaldue</th>\n",
       "      <th>...</th>\n",
       "      <th>avg_totaldue</th>\n",
       "      <th>avg_loan</th>\n",
       "      <th>avg_term</th>\n",
       "      <th>interestrate</th>\n",
       "      <th>repayment_score</th>\n",
       "      <th>duration</th>\n",
       "      <th>loan_settling</th>\n",
       "      <th>avg_interest</th>\n",
       "      <th>latbin</th>\n",
       "      <th>lonbin</th>\n",
       "    </tr>\n",
       "  </thead>\n",
       "  <tbody>\n",
       "    <tr>\n",
       "      <th>0</th>\n",
       "      <td>22:56.0</td>\n",
       "      <td>22:47.0</td>\n",
       "      <td>8a2a81a74ce8c05d014cfb32a0da1049</td>\n",
       "      <td>1.0</td>\n",
       "      <td>30000</td>\n",
       "      <td>12</td>\n",
       "      <td>0</td>\n",
       "      <td>301994762</td>\n",
       "      <td>2</td>\n",
       "      <td>34500.0</td>\n",
       "      <td>...</td>\n",
       "      <td>242900.000000</td>\n",
       "      <td>66.000000</td>\n",
       "      <td>330.0</td>\n",
       "      <td>15.00</td>\n",
       "      <td>79.000000</td>\n",
       "      <td>329.606019</td>\n",
       "      <td>7.000000</td>\n",
       "      <td>42900.000000</td>\n",
       "      <td>6.4</td>\n",
       "      <td>3.4</td>\n",
       "    </tr>\n",
       "    <tr>\n",
       "      <th>1</th>\n",
       "      <td>04:41.0</td>\n",
       "      <td>04:18.0</td>\n",
       "      <td>8a85886e54beabf90154c0a29ae757c0</td>\n",
       "      <td>1.0</td>\n",
       "      <td>15000</td>\n",
       "      <td>2</td>\n",
       "      <td>0</td>\n",
       "      <td>301965204</td>\n",
       "      <td>2</td>\n",
       "      <td>17250.0</td>\n",
       "      <td>...</td>\n",
       "      <td>81038.874556</td>\n",
       "      <td>17.402172</td>\n",
       "      <td>NaN</td>\n",
       "      <td>15.00</td>\n",
       "      <td>14.699707</td>\n",
       "      <td>NaN</td>\n",
       "      <td>2.561627</td>\n",
       "      <td>12747.373091</td>\n",
       "      <td>7.2</td>\n",
       "      <td>3.8</td>\n",
       "    </tr>\n",
       "    <tr>\n",
       "      <th>2</th>\n",
       "      <td>52:57.0</td>\n",
       "      <td>52:51.0</td>\n",
       "      <td>8a8588f35438fe12015444567666018e</td>\n",
       "      <td>1.0</td>\n",
       "      <td>20000</td>\n",
       "      <td>7</td>\n",
       "      <td>0</td>\n",
       "      <td>301966580</td>\n",
       "      <td>1</td>\n",
       "      <td>22250.0</td>\n",
       "      <td>...</td>\n",
       "      <td>70500.000000</td>\n",
       "      <td>21.000000</td>\n",
       "      <td>105.0</td>\n",
       "      <td>11.25</td>\n",
       "      <td>22.000000</td>\n",
       "      <td>111.953519</td>\n",
       "      <td>3.000000</td>\n",
       "      <td>10500.000000</td>\n",
       "      <td>10.2</td>\n",
       "      <td>11.0</td>\n",
       "    </tr>\n",
       "    <tr>\n",
       "      <th>3</th>\n",
       "      <td>00:41.0</td>\n",
       "      <td>00:35.0</td>\n",
       "      <td>8a85890754145ace015429211b513e16</td>\n",
       "      <td>1.0</td>\n",
       "      <td>10000</td>\n",
       "      <td>3</td>\n",
       "      <td>0</td>\n",
       "      <td>301999343</td>\n",
       "      <td>1</td>\n",
       "      <td>11500.0</td>\n",
       "      <td>...</td>\n",
       "      <td>24500.000000</td>\n",
       "      <td>3.000000</td>\n",
       "      <td>45.0</td>\n",
       "      <td>15.00</td>\n",
       "      <td>-5.000000</td>\n",
       "      <td>63.683981</td>\n",
       "      <td>0.000000</td>\n",
       "      <td>4500.000000</td>\n",
       "      <td>7.4</td>\n",
       "      <td>3.8</td>\n",
       "    </tr>\n",
       "    <tr>\n",
       "      <th>4</th>\n",
       "      <td>42:45.0</td>\n",
       "      <td>42:39.0</td>\n",
       "      <td>8a858970548359cc0154883481981866</td>\n",
       "      <td>1.0</td>\n",
       "      <td>40000</td>\n",
       "      <td>9</td>\n",
       "      <td>0</td>\n",
       "      <td>301962360</td>\n",
       "      <td>2</td>\n",
       "      <td>44000.0</td>\n",
       "      <td>...</td>\n",
       "      <td>188400.000000</td>\n",
       "      <td>36.000000</td>\n",
       "      <td>300.0</td>\n",
       "      <td>10.00</td>\n",
       "      <td>25.000000</td>\n",
       "      <td>220.517616</td>\n",
       "      <td>8.000000</td>\n",
       "      <td>38400.000000</td>\n",
       "      <td>9.0</td>\n",
       "      <td>7.4</td>\n",
       "    </tr>\n",
       "  </tbody>\n",
       "</table>\n",
       "<p>5 rows × 30 columns</p>\n",
       "</div>"
      ],
      "text/plain": [
       "  approveddate creationdate                        customerid  good_bad_flag  \\\n",
       "0      22:56.0      22:47.0  8a2a81a74ce8c05d014cfb32a0da1049            1.0   \n",
       "1      04:41.0      04:18.0  8a85886e54beabf90154c0a29ae757c0            1.0   \n",
       "2      52:57.0      52:51.0  8a8588f35438fe12015444567666018e            1.0   \n",
       "3      00:41.0      00:35.0  8a85890754145ace015429211b513e16            1.0   \n",
       "4      42:45.0      42:39.0  8a858970548359cc0154883481981866            1.0   \n",
       "\n",
       "   loanamount  loannumber  referredby  systemloanid  termdays  totaldue  \\\n",
       "0       30000          12           0     301994762         2   34500.0   \n",
       "1       15000           2           0     301965204         2   17250.0   \n",
       "2       20000           7           0     301966580         1   22250.0   \n",
       "3       10000           3           0     301999343         1   11500.0   \n",
       "4       40000           9           0     301962360         2   44000.0   \n",
       "\n",
       "    ...     avg_totaldue   avg_loan avg_term  interestrate  repayment_score  \\\n",
       "0   ...    242900.000000  66.000000    330.0         15.00        79.000000   \n",
       "1   ...     81038.874556  17.402172      NaN         15.00        14.699707   \n",
       "2   ...     70500.000000  21.000000    105.0         11.25        22.000000   \n",
       "3   ...     24500.000000   3.000000     45.0         15.00        -5.000000   \n",
       "4   ...    188400.000000  36.000000    300.0         10.00        25.000000   \n",
       "\n",
       "     duration loan_settling  avg_interest  latbin  lonbin  \n",
       "0  329.606019      7.000000  42900.000000     6.4     3.4  \n",
       "1         NaN      2.561627  12747.373091     7.2     3.8  \n",
       "2  111.953519      3.000000  10500.000000    10.2    11.0  \n",
       "3   63.683981      0.000000   4500.000000     7.4     3.8  \n",
       "4  220.517616      8.000000  38400.000000     9.0     7.4  \n",
       "\n",
       "[5 rows x 30 columns]"
      ]
     },
     "execution_count": 35,
     "metadata": {},
     "output_type": "execute_result"
    }
   ],
   "source": [
    "step = 0.2\n",
    "to_bin = lambda x: np.floor(x / step) * step\n",
    "data[\"latbin\"] = data['latitude_gps'].map(to_bin)\n",
    "data[\"lonbin\"] = data['longitude_gps'].map(to_bin)\n",
    "data.head()"
   ]
  },
  {
   "cell_type": "code",
   "execution_count": 33,
   "metadata": {},
   "outputs": [],
   "source": [
    "datas= data.drop(['approveddate','creationdate','referredby','avg_term','customerid',\n",
    "                  'birthdate','bank_name_clients','termdays','systemloanid'],axis=1)"
   ]
  },
  {
   "cell_type": "code",
   "execution_count": 34,
   "metadata": {},
   "outputs": [],
   "source": [
    "ntrain = train_perf.shape[0]\n",
    "ntest = test_perf.shape[0]\n",
    "train = datas[:ntrain]\n",
    "test = datas[ntrain:]"
   ]
  },
  {
   "cell_type": "code",
   "execution_count": 35,
   "metadata": {},
   "outputs": [],
   "source": [
    "train_perf['good_bad_flag'] = train_perf.good_bad_flag.replace({'Good':1,'Bad':0})"
   ]
  },
  {
   "cell_type": "code",
   "execution_count": 36,
   "metadata": {},
   "outputs": [],
   "source": [
    "train_target = train_perf.good_bad_flag.values"
   ]
  },
  {
   "cell_type": "code",
   "execution_count": 38,
   "metadata": {},
   "outputs": [
    {
     "data": {
      "text/html": [
       "<div>\n",
       "<style>\n",
       "    .dataframe thead tr:only-child th {\n",
       "        text-align: right;\n",
       "    }\n",
       "\n",
       "    .dataframe thead th {\n",
       "        text-align: left;\n",
       "    }\n",
       "\n",
       "    .dataframe tbody tr th {\n",
       "        vertical-align: top;\n",
       "    }\n",
       "</style>\n",
       "<table border=\"1\" class=\"dataframe\">\n",
       "  <thead>\n",
       "    <tr style=\"text-align: right;\">\n",
       "      <th></th>\n",
       "      <th>good_bad_flag</th>\n",
       "      <th>loanamount</th>\n",
       "      <th>loannumber</th>\n",
       "      <th>totaldue</th>\n",
       "      <th>interest</th>\n",
       "      <th>loan_ratio</th>\n",
       "      <th>bank_account_type</th>\n",
       "      <th>longitude_gps</th>\n",
       "      <th>latitude_gps</th>\n",
       "      <th>age</th>\n",
       "      <th>avg_loanamount</th>\n",
       "      <th>avg_totaldue</th>\n",
       "      <th>avg_loan</th>\n",
       "      <th>interestrate</th>\n",
       "      <th>repayment_score</th>\n",
       "      <th>duration</th>\n",
       "      <th>loan_settling</th>\n",
       "    </tr>\n",
       "  </thead>\n",
       "  <tbody>\n",
       "    <tr>\n",
       "      <th>good_bad_flag</th>\n",
       "      <td>1.000000</td>\n",
       "      <td>0.115267</td>\n",
       "      <td>0.090487</td>\n",
       "      <td>0.108357</td>\n",
       "      <td>0.032540</td>\n",
       "      <td>0.009665</td>\n",
       "      <td>-0.092743</td>\n",
       "      <td>0.008264</td>\n",
       "      <td>-0.018001</td>\n",
       "      <td>0.056248</td>\n",
       "      <td>0.089439</td>\n",
       "      <td>0.089801</td>\n",
       "      <td>0.076447</td>\n",
       "      <td>-0.131043</td>\n",
       "      <td>0.116407</td>\n",
       "      <td>0.043536</td>\n",
       "      <td>0.148084</td>\n",
       "    </tr>\n",
       "    <tr>\n",
       "      <th>loanamount</th>\n",
       "      <td>0.115267</td>\n",
       "      <td>1.000000</td>\n",
       "      <td>0.833318</td>\n",
       "      <td>0.994392</td>\n",
       "      <td>0.665706</td>\n",
       "      <td>-0.095656</td>\n",
       "      <td>-0.375955</td>\n",
       "      <td>-0.010007</td>\n",
       "      <td>0.026360</td>\n",
       "      <td>0.010422</td>\n",
       "      <td>0.855189</td>\n",
       "      <td>0.859866</td>\n",
       "      <td>0.765739</td>\n",
       "      <td>-0.518592</td>\n",
       "      <td>0.574086</td>\n",
       "      <td>0.756337</td>\n",
       "      <td>0.766016</td>\n",
       "    </tr>\n",
       "    <tr>\n",
       "      <th>loannumber</th>\n",
       "      <td>0.090487</td>\n",
       "      <td>0.833318</td>\n",
       "      <td>1.000000</td>\n",
       "      <td>0.815303</td>\n",
       "      <td>0.460606</td>\n",
       "      <td>-0.554393</td>\n",
       "      <td>-0.449131</td>\n",
       "      <td>-0.011735</td>\n",
       "      <td>0.011899</td>\n",
       "      <td>-0.007496</td>\n",
       "      <td>0.945555</td>\n",
       "      <td>0.949338</td>\n",
       "      <td>0.946639</td>\n",
       "      <td>-0.535945</td>\n",
       "      <td>0.603949</td>\n",
       "      <td>0.912393</td>\n",
       "      <td>0.850323</td>\n",
       "    </tr>\n",
       "    <tr>\n",
       "      <th>totaldue</th>\n",
       "      <td>0.108357</td>\n",
       "      <td>0.994392</td>\n",
       "      <td>0.815303</td>\n",
       "      <td>1.000000</td>\n",
       "      <td>0.740890</td>\n",
       "      <td>-0.078995</td>\n",
       "      <td>-0.368692</td>\n",
       "      <td>-0.010115</td>\n",
       "      <td>0.023537</td>\n",
       "      <td>0.014936</td>\n",
       "      <td>0.830172</td>\n",
       "      <td>0.836647</td>\n",
       "      <td>0.740071</td>\n",
       "      <td>-0.443280</td>\n",
       "      <td>0.559153</td>\n",
       "      <td>0.749735</td>\n",
       "      <td>0.746017</td>\n",
       "    </tr>\n",
       "    <tr>\n",
       "      <th>interest</th>\n",
       "      <td>0.032540</td>\n",
       "      <td>0.665706</td>\n",
       "      <td>0.460606</td>\n",
       "      <td>0.740890</td>\n",
       "      <td>1.000000</td>\n",
       "      <td>0.050094</td>\n",
       "      <td>-0.213903</td>\n",
       "      <td>-0.007823</td>\n",
       "      <td>-0.001327</td>\n",
       "      <td>0.039198</td>\n",
       "      <td>0.426624</td>\n",
       "      <td>0.442612</td>\n",
       "      <td>0.358949</td>\n",
       "      <td>0.165649</td>\n",
       "      <td>0.299529</td>\n",
       "      <td>0.486706</td>\n",
       "      <td>0.399140</td>\n",
       "    </tr>\n",
       "    <tr>\n",
       "      <th>loan_ratio</th>\n",
       "      <td>0.009665</td>\n",
       "      <td>-0.095656</td>\n",
       "      <td>-0.554393</td>\n",
       "      <td>-0.078995</td>\n",
       "      <td>0.050094</td>\n",
       "      <td>1.000000</td>\n",
       "      <td>0.243994</td>\n",
       "      <td>0.002338</td>\n",
       "      <td>0.018525</td>\n",
       "      <td>0.028319</td>\n",
       "      <td>-0.398930</td>\n",
       "      <td>-0.404913</td>\n",
       "      <td>-0.452110</td>\n",
       "      <td>0.190799</td>\n",
       "      <td>-0.197152</td>\n",
       "      <td>-0.540283</td>\n",
       "      <td>-0.378432</td>\n",
       "    </tr>\n",
       "    <tr>\n",
       "      <th>bank_account_type</th>\n",
       "      <td>-0.092743</td>\n",
       "      <td>-0.375955</td>\n",
       "      <td>-0.449131</td>\n",
       "      <td>-0.368692</td>\n",
       "      <td>-0.213903</td>\n",
       "      <td>0.243994</td>\n",
       "      <td>1.000000</td>\n",
       "      <td>0.004168</td>\n",
       "      <td>0.010560</td>\n",
       "      <td>-0.033349</td>\n",
       "      <td>-0.434506</td>\n",
       "      <td>-0.439713</td>\n",
       "      <td>-0.416909</td>\n",
       "      <td>0.230445</td>\n",
       "      <td>-0.214646</td>\n",
       "      <td>-0.474448</td>\n",
       "      <td>-0.346870</td>\n",
       "    </tr>\n",
       "    <tr>\n",
       "      <th>longitude_gps</th>\n",
       "      <td>0.008264</td>\n",
       "      <td>-0.010007</td>\n",
       "      <td>-0.011735</td>\n",
       "      <td>-0.010115</td>\n",
       "      <td>-0.007823</td>\n",
       "      <td>0.002338</td>\n",
       "      <td>0.004168</td>\n",
       "      <td>1.000000</td>\n",
       "      <td>-0.211244</td>\n",
       "      <td>0.002104</td>\n",
       "      <td>-0.007919</td>\n",
       "      <td>-0.007666</td>\n",
       "      <td>-0.013049</td>\n",
       "      <td>0.010291</td>\n",
       "      <td>-0.010195</td>\n",
       "      <td>-0.005358</td>\n",
       "      <td>-0.004134</td>\n",
       "    </tr>\n",
       "    <tr>\n",
       "      <th>latitude_gps</th>\n",
       "      <td>-0.018001</td>\n",
       "      <td>0.026360</td>\n",
       "      <td>0.011899</td>\n",
       "      <td>0.023537</td>\n",
       "      <td>-0.001327</td>\n",
       "      <td>0.018525</td>\n",
       "      <td>0.010560</td>\n",
       "      <td>-0.211244</td>\n",
       "      <td>1.000000</td>\n",
       "      <td>-0.025418</td>\n",
       "      <td>0.010935</td>\n",
       "      <td>0.010275</td>\n",
       "      <td>0.015175</td>\n",
       "      <td>-0.013779</td>\n",
       "      <td>0.026957</td>\n",
       "      <td>0.000583</td>\n",
       "      <td>0.025892</td>\n",
       "    </tr>\n",
       "    <tr>\n",
       "      <th>age</th>\n",
       "      <td>0.056248</td>\n",
       "      <td>0.010422</td>\n",
       "      <td>-0.007496</td>\n",
       "      <td>0.014936</td>\n",
       "      <td>0.039198</td>\n",
       "      <td>0.028319</td>\n",
       "      <td>-0.033349</td>\n",
       "      <td>0.002104</td>\n",
       "      <td>-0.025418</td>\n",
       "      <td>1.000000</td>\n",
       "      <td>0.002126</td>\n",
       "      <td>0.002012</td>\n",
       "      <td>-0.001795</td>\n",
       "      <td>0.040329</td>\n",
       "      <td>-0.020123</td>\n",
       "      <td>-0.001724</td>\n",
       "      <td>-0.000813</td>\n",
       "    </tr>\n",
       "    <tr>\n",
       "      <th>avg_loanamount</th>\n",
       "      <td>0.089439</td>\n",
       "      <td>0.855189</td>\n",
       "      <td>0.945555</td>\n",
       "      <td>0.830172</td>\n",
       "      <td>0.426624</td>\n",
       "      <td>-0.398930</td>\n",
       "      <td>-0.434506</td>\n",
       "      <td>-0.007919</td>\n",
       "      <td>0.010935</td>\n",
       "      <td>0.002126</td>\n",
       "      <td>1.000000</td>\n",
       "      <td>0.999248</td>\n",
       "      <td>0.951967</td>\n",
       "      <td>-0.528237</td>\n",
       "      <td>0.617656</td>\n",
       "      <td>0.870686</td>\n",
       "      <td>0.828533</td>\n",
       "    </tr>\n",
       "    <tr>\n",
       "      <th>avg_totaldue</th>\n",
       "      <td>0.089801</td>\n",
       "      <td>0.859866</td>\n",
       "      <td>0.949338</td>\n",
       "      <td>0.836647</td>\n",
       "      <td>0.442612</td>\n",
       "      <td>-0.404913</td>\n",
       "      <td>-0.439713</td>\n",
       "      <td>-0.007666</td>\n",
       "      <td>0.010275</td>\n",
       "      <td>0.002012</td>\n",
       "      <td>0.999248</td>\n",
       "      <td>1.000000</td>\n",
       "      <td>0.949502</td>\n",
       "      <td>-0.521723</td>\n",
       "      <td>0.615022</td>\n",
       "      <td>0.883988</td>\n",
       "      <td>0.827165</td>\n",
       "    </tr>\n",
       "    <tr>\n",
       "      <th>avg_loan</th>\n",
       "      <td>0.076447</td>\n",
       "      <td>0.765739</td>\n",
       "      <td>0.946639</td>\n",
       "      <td>0.740071</td>\n",
       "      <td>0.358949</td>\n",
       "      <td>-0.452110</td>\n",
       "      <td>-0.416909</td>\n",
       "      <td>-0.013049</td>\n",
       "      <td>0.015175</td>\n",
       "      <td>-0.001795</td>\n",
       "      <td>0.951967</td>\n",
       "      <td>0.949502</td>\n",
       "      <td>1.000000</td>\n",
       "      <td>-0.492337</td>\n",
       "      <td>0.638599</td>\n",
       "      <td>0.840540</td>\n",
       "      <td>0.825873</td>\n",
       "    </tr>\n",
       "    <tr>\n",
       "      <th>interestrate</th>\n",
       "      <td>-0.131043</td>\n",
       "      <td>-0.518592</td>\n",
       "      <td>-0.535945</td>\n",
       "      <td>-0.443280</td>\n",
       "      <td>0.165649</td>\n",
       "      <td>0.190799</td>\n",
       "      <td>0.230445</td>\n",
       "      <td>0.010291</td>\n",
       "      <td>-0.013779</td>\n",
       "      <td>0.040329</td>\n",
       "      <td>-0.528237</td>\n",
       "      <td>-0.521723</td>\n",
       "      <td>-0.492337</td>\n",
       "      <td>1.000000</td>\n",
       "      <td>-0.354191</td>\n",
       "      <td>-0.402153</td>\n",
       "      <td>-0.504194</td>\n",
       "    </tr>\n",
       "    <tr>\n",
       "      <th>repayment_score</th>\n",
       "      <td>0.116407</td>\n",
       "      <td>0.574086</td>\n",
       "      <td>0.603949</td>\n",
       "      <td>0.559153</td>\n",
       "      <td>0.299529</td>\n",
       "      <td>-0.197152</td>\n",
       "      <td>-0.214646</td>\n",
       "      <td>-0.010195</td>\n",
       "      <td>0.026957</td>\n",
       "      <td>-0.020123</td>\n",
       "      <td>0.617656</td>\n",
       "      <td>0.615022</td>\n",
       "      <td>0.638599</td>\n",
       "      <td>-0.354191</td>\n",
       "      <td>1.000000</td>\n",
       "      <td>0.369461</td>\n",
       "      <td>0.805192</td>\n",
       "    </tr>\n",
       "    <tr>\n",
       "      <th>duration</th>\n",
       "      <td>0.043536</td>\n",
       "      <td>0.756337</td>\n",
       "      <td>0.912393</td>\n",
       "      <td>0.749735</td>\n",
       "      <td>0.486706</td>\n",
       "      <td>-0.540283</td>\n",
       "      <td>-0.474448</td>\n",
       "      <td>-0.005358</td>\n",
       "      <td>0.000583</td>\n",
       "      <td>-0.001724</td>\n",
       "      <td>0.870686</td>\n",
       "      <td>0.883988</td>\n",
       "      <td>0.840540</td>\n",
       "      <td>-0.402153</td>\n",
       "      <td>0.369461</td>\n",
       "      <td>1.000000</td>\n",
       "      <td>0.662723</td>\n",
       "    </tr>\n",
       "    <tr>\n",
       "      <th>loan_settling</th>\n",
       "      <td>0.148084</td>\n",
       "      <td>0.766016</td>\n",
       "      <td>0.850323</td>\n",
       "      <td>0.746017</td>\n",
       "      <td>0.399140</td>\n",
       "      <td>-0.378432</td>\n",
       "      <td>-0.346870</td>\n",
       "      <td>-0.004134</td>\n",
       "      <td>0.025892</td>\n",
       "      <td>-0.000813</td>\n",
       "      <td>0.828533</td>\n",
       "      <td>0.827165</td>\n",
       "      <td>0.825873</td>\n",
       "      <td>-0.504194</td>\n",
       "      <td>0.805192</td>\n",
       "      <td>0.662723</td>\n",
       "      <td>1.000000</td>\n",
       "    </tr>\n",
       "  </tbody>\n",
       "</table>\n",
       "</div>"
      ],
      "text/plain": [
       "                   good_bad_flag  loanamount  loannumber  totaldue  interest  \\\n",
       "good_bad_flag           1.000000    0.115267    0.090487  0.108357  0.032540   \n",
       "loanamount              0.115267    1.000000    0.833318  0.994392  0.665706   \n",
       "loannumber              0.090487    0.833318    1.000000  0.815303  0.460606   \n",
       "totaldue                0.108357    0.994392    0.815303  1.000000  0.740890   \n",
       "interest                0.032540    0.665706    0.460606  0.740890  1.000000   \n",
       "loan_ratio              0.009665   -0.095656   -0.554393 -0.078995  0.050094   \n",
       "bank_account_type      -0.092743   -0.375955   -0.449131 -0.368692 -0.213903   \n",
       "longitude_gps           0.008264   -0.010007   -0.011735 -0.010115 -0.007823   \n",
       "latitude_gps           -0.018001    0.026360    0.011899  0.023537 -0.001327   \n",
       "age                     0.056248    0.010422   -0.007496  0.014936  0.039198   \n",
       "avg_loanamount          0.089439    0.855189    0.945555  0.830172  0.426624   \n",
       "avg_totaldue            0.089801    0.859866    0.949338  0.836647  0.442612   \n",
       "avg_loan                0.076447    0.765739    0.946639  0.740071  0.358949   \n",
       "interestrate           -0.131043   -0.518592   -0.535945 -0.443280  0.165649   \n",
       "repayment_score         0.116407    0.574086    0.603949  0.559153  0.299529   \n",
       "duration                0.043536    0.756337    0.912393  0.749735  0.486706   \n",
       "loan_settling           0.148084    0.766016    0.850323  0.746017  0.399140   \n",
       "\n",
       "                   loan_ratio  bank_account_type  longitude_gps  latitude_gps  \\\n",
       "good_bad_flag        0.009665          -0.092743       0.008264     -0.018001   \n",
       "loanamount          -0.095656          -0.375955      -0.010007      0.026360   \n",
       "loannumber          -0.554393          -0.449131      -0.011735      0.011899   \n",
       "totaldue            -0.078995          -0.368692      -0.010115      0.023537   \n",
       "interest             0.050094          -0.213903      -0.007823     -0.001327   \n",
       "loan_ratio           1.000000           0.243994       0.002338      0.018525   \n",
       "bank_account_type    0.243994           1.000000       0.004168      0.010560   \n",
       "longitude_gps        0.002338           0.004168       1.000000     -0.211244   \n",
       "latitude_gps         0.018525           0.010560      -0.211244      1.000000   \n",
       "age                  0.028319          -0.033349       0.002104     -0.025418   \n",
       "avg_loanamount      -0.398930          -0.434506      -0.007919      0.010935   \n",
       "avg_totaldue        -0.404913          -0.439713      -0.007666      0.010275   \n",
       "avg_loan            -0.452110          -0.416909      -0.013049      0.015175   \n",
       "interestrate         0.190799           0.230445       0.010291     -0.013779   \n",
       "repayment_score     -0.197152          -0.214646      -0.010195      0.026957   \n",
       "duration            -0.540283          -0.474448      -0.005358      0.000583   \n",
       "loan_settling       -0.378432          -0.346870      -0.004134      0.025892   \n",
       "\n",
       "                        age  avg_loanamount  avg_totaldue  avg_loan  \\\n",
       "good_bad_flag      0.056248        0.089439      0.089801  0.076447   \n",
       "loanamount         0.010422        0.855189      0.859866  0.765739   \n",
       "loannumber        -0.007496        0.945555      0.949338  0.946639   \n",
       "totaldue           0.014936        0.830172      0.836647  0.740071   \n",
       "interest           0.039198        0.426624      0.442612  0.358949   \n",
       "loan_ratio         0.028319       -0.398930     -0.404913 -0.452110   \n",
       "bank_account_type -0.033349       -0.434506     -0.439713 -0.416909   \n",
       "longitude_gps      0.002104       -0.007919     -0.007666 -0.013049   \n",
       "latitude_gps      -0.025418        0.010935      0.010275  0.015175   \n",
       "age                1.000000        0.002126      0.002012 -0.001795   \n",
       "avg_loanamount     0.002126        1.000000      0.999248  0.951967   \n",
       "avg_totaldue       0.002012        0.999248      1.000000  0.949502   \n",
       "avg_loan          -0.001795        0.951967      0.949502  1.000000   \n",
       "interestrate       0.040329       -0.528237     -0.521723 -0.492337   \n",
       "repayment_score   -0.020123        0.617656      0.615022  0.638599   \n",
       "duration          -0.001724        0.870686      0.883988  0.840540   \n",
       "loan_settling     -0.000813        0.828533      0.827165  0.825873   \n",
       "\n",
       "                   interestrate  repayment_score  duration  loan_settling  \n",
       "good_bad_flag         -0.131043         0.116407  0.043536       0.148084  \n",
       "loanamount            -0.518592         0.574086  0.756337       0.766016  \n",
       "loannumber            -0.535945         0.603949  0.912393       0.850323  \n",
       "totaldue              -0.443280         0.559153  0.749735       0.746017  \n",
       "interest               0.165649         0.299529  0.486706       0.399140  \n",
       "loan_ratio             0.190799        -0.197152 -0.540283      -0.378432  \n",
       "bank_account_type      0.230445        -0.214646 -0.474448      -0.346870  \n",
       "longitude_gps          0.010291        -0.010195 -0.005358      -0.004134  \n",
       "latitude_gps          -0.013779         0.026957  0.000583       0.025892  \n",
       "age                    0.040329        -0.020123 -0.001724      -0.000813  \n",
       "avg_loanamount        -0.528237         0.617656  0.870686       0.828533  \n",
       "avg_totaldue          -0.521723         0.615022  0.883988       0.827165  \n",
       "avg_loan              -0.492337         0.638599  0.840540       0.825873  \n",
       "interestrate           1.000000        -0.354191 -0.402153      -0.504194  \n",
       "repayment_score       -0.354191         1.000000  0.369461       0.805192  \n",
       "duration              -0.402153         0.369461  1.000000       0.662723  \n",
       "loan_settling         -0.504194         0.805192  0.662723       1.000000  "
      ]
     },
     "execution_count": 38,
     "metadata": {},
     "output_type": "execute_result"
    }
   ],
   "source": [
    "train.corr()"
   ]
  },
  {
   "cell_type": "code",
   "execution_count": 40,
   "metadata": {},
   "outputs": [],
   "source": [
    "trains = train.drop(['good_bad_flag','employment_status_clients',\n",
    "                     'avg_loan','loan_ratio'], axis=1)\n",
    "#'totaldue','avg_totaldue'"
   ]
  },
  {
   "cell_type": "code",
   "execution_count": 42,
   "metadata": {},
   "outputs": [],
   "source": [
    "tests= test.drop(['good_bad_flag','loan_ratio','employment_status_clients'\n",
    "                    ,'avg_loan'], axis=1)"
   ]
  },
  {
   "cell_type": "code",
   "execution_count": 43,
   "metadata": {},
   "outputs": [
    {
     "data": {
      "text/plain": [
       "Index(['loanamount', 'loannumber', 'totaldue', 'interest', 'bank_account_type',\n",
       "       'longitude_gps', 'latitude_gps', 'age', 'avg_loanamount',\n",
       "       'avg_totaldue', 'interestrate', 'repayment_score', 'duration',\n",
       "       'loan_settling'],\n",
       "      dtype='object')"
      ]
     },
     "execution_count": 43,
     "metadata": {},
     "output_type": "execute_result"
    }
   ],
   "source": [
    "trains.columns"
   ]
  },
  {
   "cell_type": "code",
   "execution_count": 57,
   "metadata": {},
   "outputs": [
    {
     "data": {
      "text/plain": [
       "loanamount           0\n",
       "loannumber           0\n",
       "totaldue             0\n",
       "interest             0\n",
       "bank_account_type    0\n",
       "longitude_gps        0\n",
       "latitude_gps         0\n",
       "age                  0\n",
       "avg_loanamount       0\n",
       "avg_totaldue         0\n",
       "interestrate         0\n",
       "repayment_score      0\n",
       "duration             9\n",
       "loan_settling        0\n",
       "dtype: int64"
      ]
     },
     "execution_count": 57,
     "metadata": {},
     "output_type": "execute_result"
    }
   ],
   "source": [
    "#train_data = pd.get_dummies(trains)\n",
    "train_data.isnull().sum()"
   ]
  },
  {
   "cell_type": "code",
   "execution_count": 51,
   "metadata": {},
   "outputs": [
    {
     "data": {
      "text/plain": [
       "loanamount           0\n",
       "loannumber           0\n",
       "totaldue             0\n",
       "interest             0\n",
       "bank_account_type    0\n",
       "longitude_gps        0\n",
       "latitude_gps         0\n",
       "age                  0\n",
       "avg_loanamount       0\n",
       "avg_totaldue         0\n",
       "interestrate         0\n",
       "repayment_score      0\n",
       "duration             8\n",
       "loan_settling        0\n",
       "dtype: int64"
      ]
     },
     "execution_count": 51,
     "metadata": {},
     "output_type": "execute_result"
    }
   ],
   "source": [
    "#test_data = pd.get_dummies(tests)\n",
    "test_data.isnull().sum()"
   ]
  },
  {
   "cell_type": "markdown",
   "metadata": {},
   "source": [
    "# DATA MODELLING"
   ]
  },
  {
   "cell_type": "code",
   "execution_count": 46,
   "metadata": {},
   "outputs": [
    {
     "name": "stderr",
     "output_type": "stream",
     "text": [
      "C:\\Users\\HP ELITE BOOK\\Downloads\\WinPython-64bit-3.5.4.0Qt5\\python-3.5.4.amd64\\lib\\site-packages\\sklearn\\cross_validation.py:44: DeprecationWarning: This module was deprecated in version 0.18 in favor of the model_selection module into which all the refactored classes and functions are moved. Also note that the interface of the new CV iterators are different from that of this module. This module will be removed in 0.20.\n",
      "  \"This module will be removed in 0.20.\", DeprecationWarning)\n"
     ]
    }
   ],
   "source": [
    "from sklearn.cross_validation import train_test_split\n",
    "from sklearn.metrics import accuracy_score\n",
    "from sklearn.neighbors import KNeighborsClassifier\n",
    "\n",
    "from sklearn.tree import DecisionTreeClassifier\n",
    "from sklearn.ensemble import RandomForestClassifier, AdaBoostClassifier, GradientBoostingClassifier, VotingClassifier, ExtraTreesClassifier\n",
    "from sklearn.linear_model import LogisticRegression\n",
    "from xgboost import XGBClassifier\n",
    "\n",
    "\n",
    "from sklearn.model_selection import StratifiedShuffleSplit,cross_val_score\n",
    "from sklearn.model_selection import ShuffleSplit\n",
    "from sklearn.metrics import roc_auc_score"
   ]
  },
  {
   "cell_type": "code",
   "execution_count": 102,
   "metadata": {},
   "outputs": [],
   "source": [
    "preds = knn.predict(test_data)\n",
    "my_submission = pd.DataFrame({'customerid':id,'good_bad_flag':preds.astype(int)})\n",
    "my_submission.to_csv('sub.csv',index=False)"
   ]
  },
  {
   "cell_type": "code",
   "execution_count": null,
   "metadata": {},
   "outputs": [],
   "source": [
    "preds.astype(int)"
   ]
  },
  {
   "cell_type": "code",
   "execution_count": 45,
   "metadata": {},
   "outputs": [],
   "source": [
    "import matplotlib.pyplot as plt\n",
    "%matplotlib inline"
   ]
  },
  {
   "cell_type": "code",
   "execution_count": null,
   "metadata": {},
   "outputs": [],
   "source": [
    "plt.boxplot(train_data.age)"
   ]
  },
  {
   "cell_type": "code",
   "execution_count": null,
   "metadata": {},
   "outputs": [],
   "source": [
    "train_data.age[train_data.age >47].value_counts()"
   ]
  },
  {
   "cell_type": "code",
   "execution_count": null,
   "metadata": {},
   "outputs": [],
   "source": [
    "new = []\n",
    "for val in train_data.age:\n",
    "    if val>=47:\n",
    "        new.append(train_data.age.median())\n",
    "    else:\n",
    "        new.append(val)\n",
    "\n",
    "train_data.age = new"
   ]
  },
  {
   "cell_type": "code",
   "execution_count": null,
   "metadata": {},
   "outputs": [],
   "source": [
    "IDcol = train['customerid']"
   ]
  },
  {
   "cell_type": "code",
   "execution_count": 60,
   "metadata": {},
   "outputs": [],
   "source": [
    "from sklearn.cross_validation import train_test_split\n",
    "DataX_train , DataX_test, Targety_train, Targety_test = train_test_split(train_data, train_target, random_state = 42, test_size=0.30)"
   ]
  },
  {
   "cell_type": "code",
   "execution_count": 61,
   "metadata": {},
   "outputs": [],
   "source": [
    "from sklearn import metrics as m\n",
    "#knn =GradientBoostingClassifier( n_estimators=60,learning_rate=0.1, min_samples_split=500,\n",
    "     #                                           min_samples_leaf=50,max_depth=8,max_features='sqrt', subsample=0.8,random_state=10,\n",
    "    #)\n",
    "knn =GradientBoostingClassifier()\n",
    "    \n",
    "knn.fit(DataX_train,Targety_train)\n",
    "dt2 = knn.predict(DataX_test)\n",
    "scores=m.accuracy_score(Targety_test,dt2)"
   ]
  },
  {
   "cell_type": "code",
   "execution_count": 62,
   "metadata": {},
   "outputs": [
    {
     "data": {
      "text/plain": [
       "0.77650648360030516"
      ]
     },
     "execution_count": 62,
     "metadata": {},
     "output_type": "execute_result"
    }
   ],
   "source": [
    "scores"
   ]
  },
  {
   "cell_type": "code",
   "execution_count": 173,
   "metadata": {},
   "outputs": [
    {
     "name": "stdout",
     "output_type": "stream",
     "text": [
      "[[ 43 249]\n",
      " [ 43 976]]\n"
     ]
    }
   ],
   "source": [
    "print(m.confusion_matrix(Targety_test ,dt2))"
   ]
  },
  {
   "cell_type": "code",
   "execution_count": 63,
   "metadata": {},
   "outputs": [],
   "source": [
    "from sklearn import cross_validation,metrics\n",
    "def modelfit(alg, dtrain, train_target,predictors, performCV=True, printFeatureImportance=True, cv_folds=5):\n",
    "    #Fit the algorithm on the data\n",
    "    alg.fit(dtrain[predictors], train_target)\n",
    "        \n",
    "    #Predict training set:\n",
    "    dtrain_predictions = alg.predict(dtrain[predictors])\n",
    "    \n",
    "    \n",
    "    #Perform cross-validation:\n",
    "    if performCV:\n",
    "        cv_score = cross_validation.cross_val_score(alg, dtrain[predictors], train_target, cv=cv_folds, scoring='accuracy')\n",
    "    \n",
    "    #Print model report:\n",
    "    print (\"\\nModel Report\")\n",
    "    print (\"Accuracy : %.4g\" % metrics.accuracy_score(train_target, dtrain_predictions))\n",
    "   # print (\"AUC Score (Train): %f\" % metrics.roc_auc_score(dtrain['Disbursed'], dtrain_predprob))\n",
    "    \n",
    "    if performCV:\n",
    "        print (\"CV Score : Mean - %.7g | Std - %.7g | Min - %.7g | Max - %.7g\" % (np.mean(cv_score),np.std(cv_score),np.min(cv_score),\n",
    "                                                                                  np.max(cv_score)))\n",
    "                \n",
    "    #Print Feature Importance:\n",
    "    if printFeatureImportance:\n",
    "        feat_imp = pd.Series(alg.feature_importances_, predictors).sort_values(ascending=False)\n",
    "        feat_imp.plot(kind='bar', title='Feature Importances')\n",
    "        plt.ylabel('Feature Importance Score')"
   ]
  },
  {
   "cell_type": "code",
   "execution_count": 68,
   "metadata": {},
   "outputs": [
    {
     "name": "stdout",
     "output_type": "stream",
     "text": [
      "\n",
      "Model Report\n",
      "Accuracy : 0.7816\n",
      "CV Score : Mean - 0.7820518 | Std - 0.001460278 | Min - 0.7803204 | Max - 0.7846506\n"
     ]
    },
    {
     "ename": "AttributeError",
     "evalue": "'LogisticRegression' object has no attribute 'feature_importances_'",
     "output_type": "error",
     "traceback": [
      "\u001b[1;31m---------------------------------------------------------------------------\u001b[0m",
      "\u001b[1;31mAttributeError\u001b[0m                            Traceback (most recent call last)",
      "\u001b[1;32m<ipython-input-68-844cb891bdcf>\u001b[0m in \u001b[0;36m<module>\u001b[1;34m()\u001b[0m\n\u001b[0;32m      4\u001b[0m \u001b[1;31m#gbm0 = GradientBoostingClassifier(n_estimators=50,random_state=10)\u001b[0m\u001b[1;33m\u001b[0m\u001b[1;33m\u001b[0m\u001b[0m\n\u001b[0;32m      5\u001b[0m \u001b[1;33m\u001b[0m\u001b[0m\n\u001b[1;32m----> 6\u001b[1;33m \u001b[0mmodelfit\u001b[0m\u001b[1;33m(\u001b[0m\u001b[0mLogisticRegression\u001b[0m\u001b[1;33m(\u001b[0m\u001b[1;33m)\u001b[0m\u001b[1;33m,\u001b[0m \u001b[0mtrain_data\u001b[0m\u001b[1;33m,\u001b[0m\u001b[0mtrain_target\u001b[0m\u001b[1;33m,\u001b[0m\u001b[0mpredictors\u001b[0m\u001b[1;33m)\u001b[0m\u001b[1;33m\u001b[0m\u001b[0m\n\u001b[0m",
      "\u001b[1;32m<ipython-input-63-c3465d19f1f1>\u001b[0m in \u001b[0;36mmodelfit\u001b[1;34m(alg, dtrain, train_target, predictors, performCV, printFeatureImportance, cv_folds)\u001b[0m\n\u001b[0;32m     23\u001b[0m     \u001b[1;31m#Print Feature Importance:\u001b[0m\u001b[1;33m\u001b[0m\u001b[1;33m\u001b[0m\u001b[0m\n\u001b[0;32m     24\u001b[0m     \u001b[1;32mif\u001b[0m \u001b[0mprintFeatureImportance\u001b[0m\u001b[1;33m:\u001b[0m\u001b[1;33m\u001b[0m\u001b[0m\n\u001b[1;32m---> 25\u001b[1;33m         \u001b[0mfeat_imp\u001b[0m \u001b[1;33m=\u001b[0m \u001b[0mpd\u001b[0m\u001b[1;33m.\u001b[0m\u001b[0mSeries\u001b[0m\u001b[1;33m(\u001b[0m\u001b[0malg\u001b[0m\u001b[1;33m.\u001b[0m\u001b[0mfeature_importances_\u001b[0m\u001b[1;33m,\u001b[0m \u001b[0mpredictors\u001b[0m\u001b[1;33m)\u001b[0m\u001b[1;33m.\u001b[0m\u001b[0msort_values\u001b[0m\u001b[1;33m(\u001b[0m\u001b[0mascending\u001b[0m\u001b[1;33m=\u001b[0m\u001b[1;32mFalse\u001b[0m\u001b[1;33m)\u001b[0m\u001b[1;33m\u001b[0m\u001b[0m\n\u001b[0m\u001b[0;32m     26\u001b[0m         \u001b[0mfeat_imp\u001b[0m\u001b[1;33m.\u001b[0m\u001b[0mplot\u001b[0m\u001b[1;33m(\u001b[0m\u001b[0mkind\u001b[0m\u001b[1;33m=\u001b[0m\u001b[1;34m'bar'\u001b[0m\u001b[1;33m,\u001b[0m \u001b[0mtitle\u001b[0m\u001b[1;33m=\u001b[0m\u001b[1;34m'Feature Importances'\u001b[0m\u001b[1;33m)\u001b[0m\u001b[1;33m\u001b[0m\u001b[0m\n\u001b[0;32m     27\u001b[0m         \u001b[0mplt\u001b[0m\u001b[1;33m.\u001b[0m\u001b[0mylabel\u001b[0m\u001b[1;33m(\u001b[0m\u001b[1;34m'Feature Importance Score'\u001b[0m\u001b[1;33m)\u001b[0m\u001b[1;33m\u001b[0m\u001b[0m\n",
      "\u001b[1;31mAttributeError\u001b[0m: 'LogisticRegression' object has no attribute 'feature_importances_'"
     ]
    }
   ],
   "source": [
    "#Choose all predictors except target & IDcols\n",
    "predictors = train_data.columns\n",
    "\n",
    "#gbm0 = GradientBoostingClassifier(n_estimators=50,random_state=10)\n",
    "\n",
    "modelfit(LogisticRegression(), train_data,train_target,predictors)"
   ]
  },
  {
   "cell_type": "code",
   "execution_count": 56,
   "metadata": {},
   "outputs": [
    {
     "name": "stderr",
     "output_type": "stream",
     "text": [
      "C:\\Users\\HP ELITE BOOK\\Downloads\\WinPython-64bit-3.5.4.0Qt5\\python-3.5.4.amd64\\lib\\site-packages\\sklearn\\grid_search.py:43: DeprecationWarning: This module was deprecated in version 0.18 in favor of the model_selection module into which all the refactored classes and functions are moved. This module will be removed in 0.20.\n",
      "  DeprecationWarning)\n"
     ]
    },
    {
     "data": {
      "text/plain": [
       "GridSearchCV(cv=5, error_score='raise',\n",
       "       estimator=GradientBoostingClassifier(criterion='friedman_mse', init=None,\n",
       "              learning_rate=0.1, loss='deviance', max_depth=8,\n",
       "              max_features='sqrt', max_leaf_nodes=None,\n",
       "              min_impurity_split=1e-07, min_samples_leaf=50,\n",
       "              min_samples_split=500, min_weight_fraction_leaf=0.0,\n",
       "              n_estimators=100, presort='auto', random_state=10,\n",
       "              subsample=0.8, verbose=0, warm_start=False),\n",
       "       fit_params={}, iid=False, n_jobs=4,\n",
       "       param_grid={'n_estimators': [20, 30, 40, 50, 60, 70, 80]},\n",
       "       pre_dispatch='2*n_jobs', refit=True, scoring='accuracy', verbose=0)"
      ]
     },
     "execution_count": 56,
     "metadata": {},
     "output_type": "execute_result"
    }
   ],
   "source": [
    "from sklearn.grid_search import GridSearchCV\n",
    "predictors = train_data.columns\n",
    "est=[i for i in range(20,81,10)]\n",
    "param_test1 = {'n_estimators':est}\n",
    "gsearch1 = GridSearchCV(estimator = GradientBoostingClassifier(learning_rate=0.1, min_samples_split=500,\n",
    "                                                               min_samples_leaf=50,max_depth=8,max_features='sqrt', subsample=0.8,random_state=10),\n",
    "                        param_grid = param_test1, scoring='accuracy',n_jobs=4,iid=False, cv=5)\n",
    "gsearch1.fit(train[predictors],train_target)"
   ]
  },
  {
   "cell_type": "code",
   "execution_count": 57,
   "metadata": {},
   "outputs": [
    {
     "data": {
      "text/plain": [
       "([mean: 0.78205, std: 0.00039, params: {'n_estimators': 20},\n",
       "  mean: 0.78182, std: 0.00047, params: {'n_estimators': 30},\n",
       "  mean: 0.78136, std: 0.00110, params: {'n_estimators': 40},\n",
       "  mean: 0.78022, std: 0.00293, params: {'n_estimators': 50},\n",
       "  mean: 0.78045, std: 0.00380, params: {'n_estimators': 60},\n",
       "  mean: 0.78068, std: 0.00411, params: {'n_estimators': 70},\n",
       "  mean: 0.77976, std: 0.00453, params: {'n_estimators': 80}],\n",
       " {'n_estimators': 20},\n",
       " 0.7820515708814842)"
      ]
     },
     "execution_count": 57,
     "metadata": {},
     "output_type": "execute_result"
    }
   ],
   "source": [
    "gsearch1.grid_scores_, gsearch1.best_params_, gsearch1.best_score_"
   ]
  },
  {
   "cell_type": "markdown",
   "metadata": {},
   "source": [
    "# MODELLING REVIEW AND CHECK UPS"
   ]
  },
  {
   "cell_type": "code",
   "execution_count": null,
   "metadata": {},
   "outputs": [],
   "source": [
    "train['balance_band'] = pd.cut(train['loanamount'],5)\n",
    "\n",
    "train[['balance_band', 'good_bad_flag']].groupby(['balance_band'], as_index=False).mean()"
   ]
  },
  {
   "cell_type": "code",
   "execution_count": null,
   "metadata": {},
   "outputs": [],
   "source": [
    "combine = [train_data,test]\n",
    "for dataset in combine:\n",
    "    dataset.loc[(dataset['loanamount']<=20000),'loanamount']=1\n",
    "    dataset.loc[(dataset['loanamount']>20000) & (dataset['loanamount']<=30000),'loanamount']= 2\n",
    "    dataset.loc[(dataset['loanamount'] >30000) & (dataset['loanamount'] <= 40000),'loanamount'] = 3\n",
    "    dataset.loc[(dataset['loanamount'] > 40000) & (dataset['loanamount'] <=50000),'loanamount'] = 4\n",
    "    dataset.loc[dataset['loanamount'] > 50000,'loanamount'] = 5"
   ]
  },
  {
   "cell_type": "code",
   "execution_count": null,
   "metadata": {},
   "outputs": [],
   "source": [
    "train_data.loanamount.value_counts()"
   ]
  },
  {
   "cell_type": "code",
   "execution_count": null,
   "metadata": {},
   "outputs": [],
   "source": [
    "train_data.isnull().sum()"
   ]
  },
  {
   "cell_type": "code",
   "execution_count": null,
   "metadata": {},
   "outputs": [],
   "source": []
  },
  {
   "cell_type": "code",
   "execution_count": null,
   "metadata": {},
   "outputs": [],
   "source": [
    "data_10k =train_data[train_data['loanamount'] == 10000.0]\n",
    "#data_others = datas[datas['loanamount']!=10000.0]\n",
    "print (data_10k.shape)\n",
    "#print (data_others.shape)"
   ]
  },
  {
   "cell_type": "code",
   "execution_count": null,
   "metadata": {},
   "outputs": [],
   "source": [
    "train_targetaa = data_10k.good_bad_flag.values"
   ]
  },
  {
   "cell_type": "code",
   "execution_count": null,
   "metadata": {},
   "outputs": [],
   "source": [
    "data_10k['good_bad_flag'].value_counts()"
   ]
  },
  {
   "cell_type": "code",
   "execution_count": null,
   "metadata": {},
   "outputs": [],
   "source": [
    "data_10k = data_10k.drop(['good_bad_flag'], axis=1)"
   ]
  },
  {
   "cell_type": "code",
   "execution_count": null,
   "metadata": {},
   "outputs": [],
   "source": [
    "data = datas.drop(['good_bad_flag','systemloanid',\n",
    "                    'referredby','termdays','customerid',], axis=1)"
   ]
  },
  {
   "cell_type": "code",
   "execution_count": null,
   "metadata": {},
   "outputs": [],
   "source": [
    "dataa = pd.get_dummies(data)"
   ]
  },
  {
   "cell_type": "code",
   "execution_count": null,
   "metadata": {},
   "outputs": [],
   "source": [
    "def get_train_test(data):\n",
    "    \n",
    "    # Get test set from data\n",
    "    test_data = data[data['good_bad_flag'].isnull()].reset_index()\n",
    "    test_data = test_data.drop('index',axis=1)\n",
    "    \n",
    "    \n",
    "    # Get train set from data\n",
    "    data_train_g = data[data['good_bad_flag'] == 'Good'].reset_index()\n",
    "    \n",
    "    # data_10k_train_g = data_10k_train.drop('index',axis=1)\n",
    "\n",
    "    data_train_b = data[data['good_bad_flag'] == 'Bad'].reset_index()\n",
    "    # data_10k_train_b = data_10k_train.drop('index',axis=1)\n",
    "\n",
    "    frames = [data_train_g,data_train_b]\n",
    "    train_data = pd.concat(frames)\n",
    "\n",
    "    train_data = train_data.drop('index',axis=1)"
   ]
  },
  {
   "cell_type": "code",
   "execution_count": null,
   "metadata": {},
   "outputs": [],
   "source": [
    "data_10k_train, data_10k_test = get_train_test(data_10k)"
   ]
  },
  {
   "cell_type": "code",
   "execution_count": null,
   "metadata": {},
   "outputs": [],
   "source": [
    "data_others_train, data_others_test = get_train_test(data_others)"
   ]
  },
  {
   "cell_type": "code",
   "execution_count": null,
   "metadata": {},
   "outputs": [],
   "source": [
    "X,Y = get_x_y(data_10k_train)"
   ]
  },
  {
   "cell_type": "code",
   "execution_count": null,
   "metadata": {},
   "outputs": [],
   "source": []
  }
 ],
 "metadata": {
  "kernelspec": {
   "display_name": "Python 3",
   "language": "python",
   "name": "python3"
  },
  "language_info": {
   "codemirror_mode": {
    "name": "ipython",
    "version": 3
   },
   "file_extension": ".py",
   "mimetype": "text/x-python",
   "name": "python",
   "nbconvert_exporter": "python",
   "pygments_lexer": "ipython3",
   "version": "3.5.4"
  }
 },
 "nbformat": 4,
 "nbformat_minor": 2
}
