{
 "cells": [
  {
   "cell_type": "markdown",
   "metadata": {},
   "source": [
    "# GRADIENT BOOSTING WITH SELECTED FEATURES"
   ]
  },
  {
   "cell_type": "code",
   "execution_count": 31,
   "metadata": {},
   "outputs": [
    {
     "name": "stderr",
     "output_type": "stream",
     "text": [
      "C:\\Users\\HP ELITE BOOK\\Downloads\\WinPython-64bit-3.5.4.0Qt5\\python-3.5.4.amd64\\lib\\site-packages\\sklearn\\linear_model\\coordinate_descent.py:484: ConvergenceWarning: Objective did not converge. You might want to increase the number of iterations. Fitting data with very small alpha may cause precision problems.\n",
      "  ConvergenceWarning)\n",
      "C:\\Users\\HP ELITE BOOK\\Downloads\\WinPython-64bit-3.5.4.0Qt5\\python-3.5.4.amd64\\lib\\site-packages\\sklearn\\linear_model\\coordinate_descent.py:484: ConvergenceWarning: Objective did not converge. You might want to increase the number of iterations. Fitting data with very small alpha may cause precision problems.\n",
      "  ConvergenceWarning)\n",
      "C:\\Users\\HP ELITE BOOK\\Downloads\\WinPython-64bit-3.5.4.0Qt5\\python-3.5.4.amd64\\lib\\site-packages\\sklearn\\linear_model\\coordinate_descent.py:484: ConvergenceWarning: Objective did not converge. You might want to increase the number of iterations. Fitting data with very small alpha may cause precision problems.\n",
      "  ConvergenceWarning)\n",
      "C:\\Users\\HP ELITE BOOK\\Downloads\\WinPython-64bit-3.5.4.0Qt5\\python-3.5.4.amd64\\lib\\site-packages\\sklearn\\linear_model\\coordinate_descent.py:484: ConvergenceWarning: Objective did not converge. You might want to increase the number of iterations. Fitting data with very small alpha may cause precision problems.\n",
      "  ConvergenceWarning)\n",
      "C:\\Users\\HP ELITE BOOK\\Downloads\\WinPython-64bit-3.5.4.0Qt5\\python-3.5.4.amd64\\lib\\site-packages\\sklearn\\linear_model\\coordinate_descent.py:484: ConvergenceWarning: Objective did not converge. You might want to increase the number of iterations. Fitting data with very small alpha may cause precision problems.\n",
      "  ConvergenceWarning)\n",
      "C:\\Users\\HP ELITE BOOK\\Downloads\\WinPython-64bit-3.5.4.0Qt5\\python-3.5.4.amd64\\lib\\site-packages\\sklearn\\linear_model\\coordinate_descent.py:484: ConvergenceWarning: Objective did not converge. You might want to increase the number of iterations. Fitting data with very small alpha may cause precision problems.\n",
      "  ConvergenceWarning)\n"
     ]
    },
    {
     "data": {
      "text/plain": [
       "(2698.819309849503, 2638.0489859389345)"
      ]
     },
     "execution_count": 31,
     "metadata": {},
     "output_type": "execute_result"
    }
   ],
   "source": [
    "import numpy as np\n",
    "import pandas as pd\n",
    "import matplotlib.pyplot as plt \n",
    "from sklearn.model_selection import KFold, cross_val_score, train_test_split\n",
    "from sklearn.preprocessing import StandardScaler,PolynomialFeatures\n",
    "from sklearn import preprocessing\n",
    "from sklearn.model_selection import GridSearchCV\n",
    "from sklearn.pipeline import Pipeline\n",
    "\n",
    "\n",
    "\n",
    "%matplotlib inline\n",
    "\n",
    "train = pd.read_csv('train.csv')\n",
    "test = pd.read_csv('test.csv')\n",
    "\n",
    "def get_product_weight(data, column):\n",
    "    name = []\n",
    "    value = []\n",
    "    for names in data[column[0]].unique():\n",
    "        sub = data[column][data[column[0]]==names]\n",
    "        unique = sorted(list(sub[column[1]].unique()), key=float)\n",
    "        if len(unique) == 1:\n",
    "            pass\n",
    "        else:\n",
    "            name.append(names)\n",
    "            value.append(unique[1])\n",
    "    return name, value\n",
    "\n",
    "def fill_in_weight(data, name, value):\n",
    "    for i,j  in enumerate(name):\n",
    "        data.loc[data['Product_Identifier'] == j, 'Product_Weight'] = value[i]\n",
    "    data['Product_Weight'] = data['Product_Weight'].astype(float)\n",
    "    return data\n",
    "\n",
    "def convert_back(data, column):\n",
    "    data[column] = data[column].replace(-0.75, np.NaN)\n",
    "    return data\n",
    "\n",
    "\n",
    "\n",
    "train.Product_Weight = train.Product_Weight.fillna('-0.75')\n",
    "name,value= get_product_weight(train,['Product_Identifier','Product_Weight'])\n",
    "data = fill_in_weight(train,name,value)\n",
    "train = convert_back(train,'Product_Weight')\n",
    "\n",
    "test.Product_Weight = test.Product_Weight.fillna('-0.75')\n",
    "name,value= get_product_weight(test,['Product_Identifier','Product_Weight'])\n",
    "data = fill_in_weight(test,name,value)\n",
    "test = convert_back(test,'Product_Weight')\n",
    "\n",
    "train['Supermarket _Size'] = train['Supermarket _Size'].fillna('V.Small')\n",
    "train.dropna(how='any', inplace=True)\n",
    "\n",
    "test['Supermarket _Size'] = test['Supermarket _Size'].fillna('V.Small')\n",
    "test.Product_Weight.fillna(test.Product_Weight.mean(),inplace=True)\n",
    "\n",
    "id = test.Product_Supermarket_Identifier# index for test dataset\n",
    "\n",
    "        \n",
    "\n",
    "train.drop(train[(train[\"Product_Supermarket_Sales\"]>17500)].index,inplace=True)\n",
    "train[\"Product_Supermarket_Sales\"] = np.sqrt(train[\"Product_Supermarket_Sales\"])\n",
    "\n",
    "#train['Product_Identifier'] =train['Product_Identifier'].str.extract('(\\d+)').astype(int)\n",
    "#test['Product_Identifier'] =test['Product_Identifier'].str.extract('(\\d+)').astype(int)\n",
    "\n",
    "train['leakage'] = train.Product_Supermarket_Sales/train.Product_Price\n",
    "#train['Product_P'] = train['Product_Shelf_Visibility']*train['leakage']\n",
    "#test['Product_P'] = test['Product_Shelf_Visibility']*test['leakage']\n",
    "combine =[train,test]\n",
    "\n",
    "\n",
    "from sklearn.preprocessing import LabelEncoder\n",
    "cols = ('Product_Identifier','Product_Fat_Content')\n",
    "# process columns, apply LabelEncoder to categorical features\n",
    "\n",
    "for dataset in combine:\n",
    "    for c in cols:\n",
    "        lbl = LabelEncoder() \n",
    "        lbl.fit(list(dataset[c].values)) \n",
    "        dataset[c] = lbl.transform(list(dataset[c].values))\n",
    "        \n",
    "features =['Product_Supermarket_Identifier','Product_Type','Supermarket _Size',\n",
    "           'Product_Supermarket_Sales','Product_Fat_Content','Product_Weight'\n",
    "           ,'Product_Shelf_Visibility','Product_Identifier','leakage'\n",
    "          ,'Supermarket_Location_Type']\n",
    "\n",
    "\n",
    "train_da=train.drop(features, axis=1)\n",
    "y_train = train.Product_Supermarket_Sales.values\n",
    "\n",
    "test_data = test.drop(['Product_Supermarket_Identifier','Product_Type','Supermarket _Size'\n",
    "                      ,'Product_Fat_Content','Product_Weight',\n",
    "                      'Product_Shelf_Visibility','Product_Identifier',\n",
    "                      'Supermarket_Location_Type'],axis=1)\n",
    "\n",
    "train_d = pd.get_dummies(data=train_da)\n",
    "test_data = pd.get_dummies(data=test_data)\n",
    "\n",
    "train_d.shape,test_data.shape\n",
    "\n",
    "X_train, X_test, target_train, target_test = train_test_split(train_d,\n",
    "                                                              y_train, test_size=0.3, random_state=42)\n",
    "from sklearn.ensemble import RandomForestRegressor,GradientBoostingRegressor\n",
    "from sklearn.linear_model import ElasticNet, Lasso,  BayesianRidge, LassoLarsIC, LinearRegression\n",
    "from sklearn.tree import DecisionTreeRegressor\n",
    "from sklearn.svm import SVR\n",
    "\n",
    "\n",
    "\n",
    "#lr =  LinearRegression()\n",
    "GBoost = GradientBoostingRegressor(n_estimators=120 ,learning_rate=0.05,\n",
    "                                   max_depth=4, max_features='sqrt',\n",
    "                                   min_samples_leaf=15, min_samples_split=10, \n",
    "                                   loss='huber', random_state =5)\n",
    "param_grid = {'alpha': [ 0.1],}\n",
    "lasso = GridSearchCV(Lasso(), cv=5, param_grid=param_grid, scoring='neg_mean_squared_error')\n",
    "steps = [('scaler',StandardScaler()),\n",
    "         ('poly', PolynomialFeatures(degree=3)),('model', Lasso(alpha=0.01,) )]\n",
    "pipeline = Pipeline(steps)\n",
    "pipeline.fit(X_train,target_train)\n",
    "\n",
    "preds =pipeline.predict(X_test)\n",
    "\n",
    "my_submission = pd.DataFrame({'Product_Supermarket_Identifier': id, 'Product_Supermarket_Sales':np.square(pipeline.predict(test_data))})\n",
    "# you could use any filename. We choose submission here\n",
    "my_submission.to_csv('nsubmission.csv', index=False)\n",
    "\n",
    "n_folds = 5\n",
    "def rmse_cv(model,X,y):\n",
    "    kf = KFold(n_folds,random_state=4,shuffle=True).get_n_splits(train_d.values)\n",
    "    rmse =  np.sqrt(-cross_val_score(model, X,y ,scoring=\"neg_mean_squared_error\", cv =kf))\n",
    "    return(rmse)\n",
    "\n",
    "def rmse(x, y): return np.sqrt(((x - y)**2).mean())\n",
    "rmse(np.square(preds),np.square(target_test)),rmse_cv(pipeline,np.square(train_d),np.square(y_train)).mean()"
   ]
  },
  {
   "cell_type": "code",
   "execution_count": 5,
   "metadata": {},
   "outputs": [],
   "source": [
    "### import matplotlib.pyplot as plt\n",
    "%matplotlib inline\n",
    "import seaborn as sns"
   ]
  },
  {
   "cell_type": "code",
   "execution_count": 25,
   "metadata": {},
   "outputs": [
    {
     "data": {
      "image/png": "[encoded data removed]",
      "text/plain": [
       "<matplotlib.figure.Figure at 0x1f77016f438>"
      ]
     },
     "metadata": {},
     "output_type": "display_data"
    }
   ],
   "source": [
    "corr = train.corr()\n",
    "\n",
    "sns.heatmap(corr,annot=True,cmap='RdYlGn',linewidths=1,annot_kws={'size':10})\n",
    "fig=plt.gcf()\n",
    "fig.set_size_inches(18,10)\n",
    "plt.xticks(fontsize=14)\n",
    "plt.yticks(fontsize=14)\n",
    "plt.show()"
   ]
  },
  {
   "cell_type": "code",
   "execution_count": 55,
   "metadata": {},
   "outputs": [],
   "source": [
    "import numpy as np\n",
    "import pandas as pd\n",
    "train = pd.read_csv('train.csv')\n",
    "test = pd.read_csv('test.csv')"
   ]
  },
  {
   "cell_type": "code",
   "execution_count": 108,
   "metadata": {},
   "outputs": [
    {
     "data": {
      "text/plain": [
       "{'boxes': [<matplotlib.lines.Line2D at 0x1ddb8ed86a0>],\n",
       " 'caps': [<matplotlib.lines.Line2D at 0x1ddb6a7ff28>,\n",
       "  <matplotlib.lines.Line2D at 0x1ddb8d6a898>],\n",
       " 'fliers': [<matplotlib.lines.Line2D at 0x1ddb8edfd30>],\n",
       " 'means': [],\n",
       " 'medians': [<matplotlib.lines.Line2D at 0x1ddb65cda58>],\n",
       " 'whiskers': [<matplotlib.lines.Line2D at 0x1ddb8ed8828>,\n",
       "  <matplotlib.lines.Line2D at 0x1ddb8ed8588>]}"
      ]
     },
     "execution_count": 108,
     "metadata": {},
     "output_type": "execute_result"
    },
    {
     "data": {
      "image/png": "[encoded data removed]",
      "text/plain": [
       "<matplotlib.figure.Figure at 0x1ddb6b08828>"
      ]
     },
     "metadata": {},
     "output_type": "display_data"
    }
   ],
   "source": [
    "plt.boxplot(train.Product_Identifier)"
   ]
  },
  {
   "cell_type": "code",
   "execution_count": null,
   "metadata": {},
   "outputs": [],
   "source": [
    "train.Product_Shelf_Visibility[train.Product_Supermarket_Sales>=17500].shape"
   ]
  },
  {
   "cell_type": "code",
   "execution_count": 60,
   "metadata": {},
   "outputs": [],
   "source": [
    "new_ss = []\n",
    "for val in train.Product_Supermarket_Sales:\n",
    "    if val > 17500:\n",
    "        new_ss.append(train.Product_Supermarket_Sales.median())\n",
    "    else:\n",
    "        new_ss.append(val)"
   ]
  },
  {
   "cell_type": "code",
   "execution_count": 74,
   "metadata": {},
   "outputs": [],
   "source": [
    "train.Product_ = train.Product_Price*train.Product_Weight"
   ]
  },
  {
   "cell_type": "code",
   "execution_count": 33,
   "metadata": {},
   "outputs": [
    {
     "ename": "AttributeError",
     "evalue": "'Lasso' object has no attribute 'feature_importances_'",
     "output_type": "error",
     "traceback": [
      "\u001b[1;31m---------------------------------------------------------------------------\u001b[0m",
      "\u001b[1;31mAttributeError\u001b[0m                            Traceback (most recent call last)",
      "\u001b[1;32m<ipython-input-33-8f022ff1336d>\u001b[0m in \u001b[0;36m<module>\u001b[1;34m()\u001b[0m\n\u001b[1;32m----> 1\u001b[1;33m \u001b[0mfeat_imp\u001b[0m \u001b[1;33m=\u001b[0m \u001b[0mpd\u001b[0m\u001b[1;33m.\u001b[0m\u001b[0mSeries\u001b[0m\u001b[1;33m(\u001b[0m\u001b[0mlr\u001b[0m\u001b[1;33m.\u001b[0m\u001b[0mfeature_importances_\u001b[0m\u001b[1;33m,\u001b[0m \u001b[0mtrain_d\u001b[0m\u001b[1;33m.\u001b[0m\u001b[0mcolumns\u001b[0m\u001b[1;33m)\u001b[0m\u001b[1;33m.\u001b[0m\u001b[0msort_values\u001b[0m\u001b[1;33m(\u001b[0m\u001b[0mascending\u001b[0m\u001b[1;33m=\u001b[0m\u001b[1;32mFalse\u001b[0m\u001b[1;33m)\u001b[0m\u001b[1;33m\u001b[0m\u001b[0m\n\u001b[0m\u001b[0;32m      2\u001b[0m \u001b[0mfeat_imp\u001b[0m\u001b[1;33m\u001b[0m\u001b[0m\n",
      "\u001b[1;31mAttributeError\u001b[0m: 'Lasso' object has no attribute 'feature_importances_'"
     ]
    }
   ],
   "source": [
    "feat_imp = pd.Series(lr.feature_importances_, train_d.columns).sort_values(ascending=False)\n",
    "feat_imp"
   ]
  },
  {
   "cell_type": "code",
   "execution_count": 70,
   "metadata": {},
   "outputs": [
    {
     "data": {
      "text/html": [
       "<div>\n",
       "<style>\n",
       "    .dataframe thead tr:only-child th {\n",
       "        text-align: right;\n",
       "    }\n",
       "\n",
       "    .dataframe thead th {\n",
       "        text-align: left;\n",
       "    }\n",
       "\n",
       "    .dataframe tbody tr th {\n",
       "        vertical-align: top;\n",
       "    }\n",
       "</style>\n",
       "<table border=\"1\" class=\"dataframe\">\n",
       "  <thead>\n",
       "    <tr style=\"text-align: right;\">\n",
       "      <th></th>\n",
       "      <th>actual</th>\n",
       "      <th>predicted</th>\n",
       "      <th>residuals</th>\n",
       "    </tr>\n",
       "  </thead>\n",
       "  <tbody>\n",
       "    <tr>\n",
       "      <th>0</th>\n",
       "      <td>8077.82</td>\n",
       "      <td>5072.377179</td>\n",
       "      <td>3005.442821</td>\n",
       "    </tr>\n",
       "    <tr>\n",
       "      <th>1</th>\n",
       "      <td>3924.89</td>\n",
       "      <td>6652.078881</td>\n",
       "      <td>-2727.188881</td>\n",
       "    </tr>\n",
       "    <tr>\n",
       "      <th>2</th>\n",
       "      <td>3786.74</td>\n",
       "      <td>4901.646312</td>\n",
       "      <td>-1114.906312</td>\n",
       "    </tr>\n",
       "    <tr>\n",
       "      <th>3</th>\n",
       "      <td>7982.94</td>\n",
       "      <td>6233.789886</td>\n",
       "      <td>1749.150114</td>\n",
       "    </tr>\n",
       "    <tr>\n",
       "      <th>4</th>\n",
       "      <td>2538.36</td>\n",
       "      <td>1951.460511</td>\n",
       "      <td>586.899489</td>\n",
       "    </tr>\n",
       "    <tr>\n",
       "      <th>5</th>\n",
       "      <td>4718.86</td>\n",
       "      <td>8198.318089</td>\n",
       "      <td>-3479.458089</td>\n",
       "    </tr>\n",
       "    <tr>\n",
       "      <th>6</th>\n",
       "      <td>13347.63</td>\n",
       "      <td>7657.022396</td>\n",
       "      <td>5690.607604</td>\n",
       "    </tr>\n",
       "    <tr>\n",
       "      <th>7</th>\n",
       "      <td>2738.10</td>\n",
       "      <td>6335.668487</td>\n",
       "      <td>-3597.568487</td>\n",
       "    </tr>\n",
       "    <tr>\n",
       "      <th>8</th>\n",
       "      <td>4613.99</td>\n",
       "      <td>4324.050474</td>\n",
       "      <td>289.939526</td>\n",
       "    </tr>\n",
       "    <tr>\n",
       "      <th>9</th>\n",
       "      <td>4963.54</td>\n",
       "      <td>5329.652772</td>\n",
       "      <td>-366.112772</td>\n",
       "    </tr>\n",
       "    <tr>\n",
       "      <th>10</th>\n",
       "      <td>1977.43</td>\n",
       "      <td>2003.585959</td>\n",
       "      <td>-26.155959</td>\n",
       "    </tr>\n",
       "    <tr>\n",
       "      <th>11</th>\n",
       "      <td>8265.91</td>\n",
       "      <td>4644.048220</td>\n",
       "      <td>3621.861780</td>\n",
       "    </tr>\n",
       "    <tr>\n",
       "      <th>12</th>\n",
       "      <td>14106.64</td>\n",
       "      <td>9168.345002</td>\n",
       "      <td>4938.294998</td>\n",
       "    </tr>\n",
       "    <tr>\n",
       "      <th>13</th>\n",
       "      <td>6383.36</td>\n",
       "      <td>7970.456952</td>\n",
       "      <td>-1587.096952</td>\n",
       "    </tr>\n",
       "    <tr>\n",
       "      <th>14</th>\n",
       "      <td>4633.97</td>\n",
       "      <td>5687.106894</td>\n",
       "      <td>-1053.136894</td>\n",
       "    </tr>\n",
       "    <tr>\n",
       "      <th>15</th>\n",
       "      <td>6158.65</td>\n",
       "      <td>5427.290999</td>\n",
       "      <td>731.359001</td>\n",
       "    </tr>\n",
       "    <tr>\n",
       "      <th>16</th>\n",
       "      <td>9013.27</td>\n",
       "      <td>7679.714495</td>\n",
       "      <td>1333.555505</td>\n",
       "    </tr>\n",
       "    <tr>\n",
       "      <th>17</th>\n",
       "      <td>8688.69</td>\n",
       "      <td>4976.614396</td>\n",
       "      <td>3712.075604</td>\n",
       "    </tr>\n",
       "    <tr>\n",
       "      <th>18</th>\n",
       "      <td>5725.88</td>\n",
       "      <td>8958.813732</td>\n",
       "      <td>-3232.933732</td>\n",
       "    </tr>\n",
       "    <tr>\n",
       "      <th>19</th>\n",
       "      <td>1173.47</td>\n",
       "      <td>850.661248</td>\n",
       "      <td>322.808752</td>\n",
       "    </tr>\n",
       "    <tr>\n",
       "      <th>20</th>\n",
       "      <td>1724.42</td>\n",
       "      <td>3799.109708</td>\n",
       "      <td>-2074.689708</td>\n",
       "    </tr>\n",
       "    <tr>\n",
       "      <th>21</th>\n",
       "      <td>5259.82</td>\n",
       "      <td>9104.658708</td>\n",
       "      <td>-3844.838708</td>\n",
       "    </tr>\n",
       "    <tr>\n",
       "      <th>22</th>\n",
       "      <td>8778.57</td>\n",
       "      <td>10228.967024</td>\n",
       "      <td>-1450.397024</td>\n",
       "    </tr>\n",
       "    <tr>\n",
       "      <th>23</th>\n",
       "      <td>4357.66</td>\n",
       "      <td>5235.842613</td>\n",
       "      <td>-878.182613</td>\n",
       "    </tr>\n",
       "    <tr>\n",
       "      <th>24</th>\n",
       "      <td>8179.35</td>\n",
       "      <td>10090.355043</td>\n",
       "      <td>-1911.005043</td>\n",
       "    </tr>\n",
       "    <tr>\n",
       "      <th>25</th>\n",
       "      <td>5376.34</td>\n",
       "      <td>11336.497184</td>\n",
       "      <td>-5960.157184</td>\n",
       "    </tr>\n",
       "    <tr>\n",
       "      <th>26</th>\n",
       "      <td>998.70</td>\n",
       "      <td>906.078523</td>\n",
       "      <td>92.621477</td>\n",
       "    </tr>\n",
       "    <tr>\n",
       "      <th>27</th>\n",
       "      <td>3869.96</td>\n",
       "      <td>4586.722288</td>\n",
       "      <td>-716.762288</td>\n",
       "    </tr>\n",
       "    <tr>\n",
       "      <th>28</th>\n",
       "      <td>862.21</td>\n",
       "      <td>1008.721604</td>\n",
       "      <td>-146.511604</td>\n",
       "    </tr>\n",
       "    <tr>\n",
       "      <th>29</th>\n",
       "      <td>5359.69</td>\n",
       "      <td>6353.574511</td>\n",
       "      <td>-993.884511</td>\n",
       "    </tr>\n",
       "    <tr>\n",
       "      <th>...</th>\n",
       "      <td>...</td>\n",
       "      <td>...</td>\n",
       "      <td>...</td>\n",
       "    </tr>\n",
       "    <tr>\n",
       "      <th>965</th>\n",
       "      <td>9347.83</td>\n",
       "      <td>6031.606210</td>\n",
       "      <td>3316.223790</td>\n",
       "    </tr>\n",
       "    <tr>\n",
       "      <th>966</th>\n",
       "      <td>5376.34</td>\n",
       "      <td>9891.528804</td>\n",
       "      <td>-4515.188804</td>\n",
       "    </tr>\n",
       "    <tr>\n",
       "      <th>967</th>\n",
       "      <td>8921.72</td>\n",
       "      <td>7455.604908</td>\n",
       "      <td>1466.115092</td>\n",
       "    </tr>\n",
       "    <tr>\n",
       "      <th>968</th>\n",
       "      <td>2947.83</td>\n",
       "      <td>1902.793541</td>\n",
       "      <td>1045.036459</td>\n",
       "    </tr>\n",
       "    <tr>\n",
       "      <th>969</th>\n",
       "      <td>11445.10</td>\n",
       "      <td>9867.172183</td>\n",
       "      <td>1577.927817</td>\n",
       "    </tr>\n",
       "    <tr>\n",
       "      <th>970</th>\n",
       "      <td>5318.08</td>\n",
       "      <td>5967.283306</td>\n",
       "      <td>-649.203306</td>\n",
       "    </tr>\n",
       "    <tr>\n",
       "      <th>971</th>\n",
       "      <td>4617.32</td>\n",
       "      <td>3915.706549</td>\n",
       "      <td>701.613451</td>\n",
       "    </tr>\n",
       "    <tr>\n",
       "      <th>972</th>\n",
       "      <td>13364.27</td>\n",
       "      <td>7223.021312</td>\n",
       "      <td>6141.248688</td>\n",
       "    </tr>\n",
       "    <tr>\n",
       "      <th>973</th>\n",
       "      <td>2217.11</td>\n",
       "      <td>1697.930755</td>\n",
       "      <td>519.179245</td>\n",
       "    </tr>\n",
       "    <tr>\n",
       "      <th>974</th>\n",
       "      <td>7869.76</td>\n",
       "      <td>5608.544783</td>\n",
       "      <td>2261.215217</td>\n",
       "    </tr>\n",
       "    <tr>\n",
       "      <th>975</th>\n",
       "      <td>4519.12</td>\n",
       "      <td>4659.024116</td>\n",
       "      <td>-139.904116</td>\n",
       "    </tr>\n",
       "    <tr>\n",
       "      <th>976</th>\n",
       "      <td>5557.77</td>\n",
       "      <td>8978.393292</td>\n",
       "      <td>-3420.623292</td>\n",
       "    </tr>\n",
       "    <tr>\n",
       "      <th>977</th>\n",
       "      <td>5376.34</td>\n",
       "      <td>9791.225169</td>\n",
       "      <td>-4414.885169</td>\n",
       "    </tr>\n",
       "    <tr>\n",
       "      <th>978</th>\n",
       "      <td>7618.42</td>\n",
       "      <td>5326.899355</td>\n",
       "      <td>2291.520645</td>\n",
       "    </tr>\n",
       "    <tr>\n",
       "      <th>979</th>\n",
       "      <td>9685.73</td>\n",
       "      <td>9973.187772</td>\n",
       "      <td>-287.457772</td>\n",
       "    </tr>\n",
       "    <tr>\n",
       "      <th>980</th>\n",
       "      <td>6891.03</td>\n",
       "      <td>4987.537263</td>\n",
       "      <td>1903.492737</td>\n",
       "    </tr>\n",
       "    <tr>\n",
       "      <th>981</th>\n",
       "      <td>6816.13</td>\n",
       "      <td>7283.639570</td>\n",
       "      <td>-467.509570</td>\n",
       "    </tr>\n",
       "    <tr>\n",
       "      <th>982</th>\n",
       "      <td>10013.63</td>\n",
       "      <td>10009.654754</td>\n",
       "      <td>3.975246</td>\n",
       "    </tr>\n",
       "    <tr>\n",
       "      <th>983</th>\n",
       "      <td>399.48</td>\n",
       "      <td>844.672160</td>\n",
       "      <td>-445.192160</td>\n",
       "    </tr>\n",
       "    <tr>\n",
       "      <th>984</th>\n",
       "      <td>3325.67</td>\n",
       "      <td>6410.606743</td>\n",
       "      <td>-3084.936743</td>\n",
       "    </tr>\n",
       "    <tr>\n",
       "      <th>985</th>\n",
       "      <td>773.99</td>\n",
       "      <td>3932.532270</td>\n",
       "      <td>-3158.542270</td>\n",
       "    </tr>\n",
       "    <tr>\n",
       "      <th>986</th>\n",
       "      <td>6027.15</td>\n",
       "      <td>5743.249633</td>\n",
       "      <td>283.900367</td>\n",
       "    </tr>\n",
       "    <tr>\n",
       "      <th>987</th>\n",
       "      <td>2108.92</td>\n",
       "      <td>5412.992441</td>\n",
       "      <td>-3304.072441</td>\n",
       "    </tr>\n",
       "    <tr>\n",
       "      <th>988</th>\n",
       "      <td>13109.60</td>\n",
       "      <td>9353.519682</td>\n",
       "      <td>3756.080318</td>\n",
       "    </tr>\n",
       "    <tr>\n",
       "      <th>989</th>\n",
       "      <td>13322.66</td>\n",
       "      <td>10001.475393</td>\n",
       "      <td>3321.184607</td>\n",
       "    </tr>\n",
       "    <tr>\n",
       "      <th>990</th>\n",
       "      <td>4469.18</td>\n",
       "      <td>5114.608534</td>\n",
       "      <td>-645.428534</td>\n",
       "    </tr>\n",
       "    <tr>\n",
       "      <th>991</th>\n",
       "      <td>7699.98</td>\n",
       "      <td>7184.672269</td>\n",
       "      <td>515.307731</td>\n",
       "    </tr>\n",
       "    <tr>\n",
       "      <th>992</th>\n",
       "      <td>5376.34</td>\n",
       "      <td>9044.611756</td>\n",
       "      <td>-3668.271756</td>\n",
       "    </tr>\n",
       "    <tr>\n",
       "      <th>993</th>\n",
       "      <td>8918.39</td>\n",
       "      <td>9324.073706</td>\n",
       "      <td>-405.683706</td>\n",
       "    </tr>\n",
       "    <tr>\n",
       "      <th>994</th>\n",
       "      <td>835.58</td>\n",
       "      <td>1241.539270</td>\n",
       "      <td>-405.959270</td>\n",
       "    </tr>\n",
       "  </tbody>\n",
       "</table>\n",
       "<p>995 rows × 3 columns</p>\n",
       "</div>"
      ],
      "text/plain": [
       "       actual     predicted    residuals\n",
       "0     8077.82   5072.377179  3005.442821\n",
       "1     3924.89   6652.078881 -2727.188881\n",
       "2     3786.74   4901.646312 -1114.906312\n",
       "3     7982.94   6233.789886  1749.150114\n",
       "4     2538.36   1951.460511   586.899489\n",
       "5     4718.86   8198.318089 -3479.458089\n",
       "6    13347.63   7657.022396  5690.607604\n",
       "7     2738.10   6335.668487 -3597.568487\n",
       "8     4613.99   4324.050474   289.939526\n",
       "9     4963.54   5329.652772  -366.112772\n",
       "10    1977.43   2003.585959   -26.155959\n",
       "11    8265.91   4644.048220  3621.861780\n",
       "12   14106.64   9168.345002  4938.294998\n",
       "13    6383.36   7970.456952 -1587.096952\n",
       "14    4633.97   5687.106894 -1053.136894\n",
       "15    6158.65   5427.290999   731.359001\n",
       "16    9013.27   7679.714495  1333.555505\n",
       "17    8688.69   4976.614396  3712.075604\n",
       "18    5725.88   8958.813732 -3232.933732\n",
       "19    1173.47    850.661248   322.808752\n",
       "20    1724.42   3799.109708 -2074.689708\n",
       "21    5259.82   9104.658708 -3844.838708\n",
       "22    8778.57  10228.967024 -1450.397024\n",
       "23    4357.66   5235.842613  -878.182613\n",
       "24    8179.35  10090.355043 -1911.005043\n",
       "25    5376.34  11336.497184 -5960.157184\n",
       "26     998.70    906.078523    92.621477\n",
       "27    3869.96   4586.722288  -716.762288\n",
       "28     862.21   1008.721604  -146.511604\n",
       "29    5359.69   6353.574511  -993.884511\n",
       "..        ...           ...          ...\n",
       "965   9347.83   6031.606210  3316.223790\n",
       "966   5376.34   9891.528804 -4515.188804\n",
       "967   8921.72   7455.604908  1466.115092\n",
       "968   2947.83   1902.793541  1045.036459\n",
       "969  11445.10   9867.172183  1577.927817\n",
       "970   5318.08   5967.283306  -649.203306\n",
       "971   4617.32   3915.706549   701.613451\n",
       "972  13364.27   7223.021312  6141.248688\n",
       "973   2217.11   1697.930755   519.179245\n",
       "974   7869.76   5608.544783  2261.215217\n",
       "975   4519.12   4659.024116  -139.904116\n",
       "976   5557.77   8978.393292 -3420.623292\n",
       "977   5376.34   9791.225169 -4414.885169\n",
       "978   7618.42   5326.899355  2291.520645\n",
       "979   9685.73   9973.187772  -287.457772\n",
       "980   6891.03   4987.537263  1903.492737\n",
       "981   6816.13   7283.639570  -467.509570\n",
       "982  10013.63  10009.654754     3.975246\n",
       "983    399.48    844.672160  -445.192160\n",
       "984   3325.67   6410.606743 -3084.936743\n",
       "985    773.99   3932.532270 -3158.542270\n",
       "986   6027.15   5743.249633   283.900367\n",
       "987   2108.92   5412.992441 -3304.072441\n",
       "988  13109.60   9353.519682  3756.080318\n",
       "989  13322.66  10001.475393  3321.184607\n",
       "990   4469.18   5114.608534  -645.428534\n",
       "991   7699.98   7184.672269   515.307731\n",
       "992   5376.34   9044.611756 -3668.271756\n",
       "993   8918.39   9324.073706  -405.683706\n",
       "994    835.58   1241.539270  -405.959270\n",
       "\n",
       "[995 rows x 3 columns]"
      ]
     },
     "execution_count": 70,
     "metadata": {},
     "output_type": "execute_result"
    }
   ],
   "source": [
    "y_pred = gbr.predict(X_test)\n",
    "df = pd.DataFrame({'actual':target_test, 'predicted':y_pred, 'residuals':target_test-y_pred})\n",
    "df"
   ]
  },
  {
   "cell_type": "code",
   "execution_count": null,
   "metadata": {},
   "outputs": [],
   "source": [
    "from sklearn.tree import DecisionTreeRegressor"
   ]
  },
  {
   "cell_type": "code",
   "execution_count": 21,
   "metadata": {
    "scrolled": true
   },
   "outputs": [
    {
     "data": {
      "text/plain": [
       "0.67502095348677638"
      ]
     },
     "execution_count": 21,
     "metadata": {},
     "output_type": "execute_result"
    }
   ],
   "source": [
    "predis = gbr.predict(X_test)\n",
    "from sklearn.metrics import r2_score\n",
    "r2_score(target_test,predis)"
   ]
  },
  {
   "cell_type": "code",
   "execution_count": 16,
   "metadata": {},
   "outputs": [
    {
     "name": "stderr",
     "output_type": "stream",
     "text": [
      "C:\\Users\\HP ELITE BOOK\\Downloads\\WinPython-64bit-3.5.4.0Qt5\\python-3.5.4.amd64\\lib\\site-packages\\ipykernel_launcher.py:53: FutureWarning: currently extract(expand=None) means expand=False (return Index/Series/DataFrame) but in a future version of pandas this will be changed to expand=True (return DataFrame)\n",
      "C:\\Users\\HP ELITE BOOK\\Downloads\\WinPython-64bit-3.5.4.0Qt5\\python-3.5.4.amd64\\lib\\site-packages\\ipykernel_launcher.py:54: FutureWarning: currently extract(expand=None) means expand=False (return Index/Series/DataFrame) but in a future version of pandas this will be changed to expand=True (return DataFrame)\n"
     ]
    },
    {
     "ename": "ValueError",
     "evalue": "Input contains NaN, infinity or a value too large for dtype('float32').",
     "output_type": "error",
     "traceback": [
      "\u001b[1;31m---------------------------------------------------------------------------\u001b[0m",
      "\u001b[1;31mValueError\u001b[0m                                Traceback (most recent call last)",
      "\u001b[1;32m<ipython-input-16-121494617fc3>\u001b[0m in \u001b[0;36m<module>\u001b[1;34m()\u001b[0m\n\u001b[0;32m     91\u001b[0m \u001b[0mgbr\u001b[0m \u001b[1;33m=\u001b[0m  \u001b[0mGradientBoostingRegressor\u001b[0m\u001b[1;33m(\u001b[0m\u001b[1;33m)\u001b[0m\u001b[1;33m\u001b[0m\u001b[0m\n\u001b[0;32m     92\u001b[0m \u001b[0mgbr\u001b[0m\u001b[1;33m.\u001b[0m\u001b[0mfit\u001b[0m\u001b[1;33m(\u001b[0m\u001b[0mtrain_d\u001b[0m\u001b[1;33m,\u001b[0m\u001b[0my_train\u001b[0m\u001b[1;33m)\u001b[0m\u001b[1;33m\u001b[0m\u001b[0m\n\u001b[1;32m---> 93\u001b[1;33m \u001b[0mpreds\u001b[0m \u001b[1;33m=\u001b[0m \u001b[0mnp\u001b[0m\u001b[1;33m.\u001b[0m\u001b[0msquare\u001b[0m\u001b[1;33m(\u001b[0m\u001b[0mgbr\u001b[0m\u001b[1;33m.\u001b[0m\u001b[0mpredict\u001b[0m\u001b[1;33m(\u001b[0m\u001b[0mtest_data\u001b[0m\u001b[1;33m)\u001b[0m\u001b[1;33m)\u001b[0m\u001b[1;33m\u001b[0m\u001b[0m\n\u001b[0m\u001b[0;32m     94\u001b[0m \u001b[1;33m\u001b[0m\u001b[0m\n\u001b[0;32m     95\u001b[0m \u001b[1;33m\u001b[0m\u001b[0m\n",
      "\u001b[1;32mC:\\Users\\HP ELITE BOOK\\Downloads\\WinPython-64bit-3.5.4.0Qt5\\python-3.5.4.amd64\\lib\\site-packages\\sklearn\\ensemble\\gradient_boosting.py\u001b[0m in \u001b[0;36mpredict\u001b[1;34m(self, X)\u001b[0m\n\u001b[0;32m   1849\u001b[0m             \u001b[0mThe\u001b[0m \u001b[0mpredicted\u001b[0m \u001b[0mvalues\u001b[0m\u001b[1;33m.\u001b[0m\u001b[1;33m\u001b[0m\u001b[0m\n\u001b[0;32m   1850\u001b[0m         \"\"\"\n\u001b[1;32m-> 1851\u001b[1;33m         \u001b[0mX\u001b[0m \u001b[1;33m=\u001b[0m \u001b[0mcheck_array\u001b[0m\u001b[1;33m(\u001b[0m\u001b[0mX\u001b[0m\u001b[1;33m,\u001b[0m \u001b[0mdtype\u001b[0m\u001b[1;33m=\u001b[0m\u001b[0mDTYPE\u001b[0m\u001b[1;33m,\u001b[0m \u001b[0morder\u001b[0m\u001b[1;33m=\u001b[0m\u001b[1;34m\"C\"\u001b[0m\u001b[1;33m)\u001b[0m\u001b[1;33m\u001b[0m\u001b[0m\n\u001b[0m\u001b[0;32m   1852\u001b[0m         \u001b[1;32mreturn\u001b[0m \u001b[0mself\u001b[0m\u001b[1;33m.\u001b[0m\u001b[0m_decision_function\u001b[0m\u001b[1;33m(\u001b[0m\u001b[0mX\u001b[0m\u001b[1;33m)\u001b[0m\u001b[1;33m.\u001b[0m\u001b[0mravel\u001b[0m\u001b[1;33m(\u001b[0m\u001b[1;33m)\u001b[0m\u001b[1;33m\u001b[0m\u001b[0m\n\u001b[0;32m   1853\u001b[0m \u001b[1;33m\u001b[0m\u001b[0m\n",
      "\u001b[1;32mC:\\Users\\HP ELITE BOOK\\Downloads\\WinPython-64bit-3.5.4.0Qt5\\python-3.5.4.amd64\\lib\\site-packages\\sklearn\\utils\\validation.py\u001b[0m in \u001b[0;36mcheck_array\u001b[1;34m(array, accept_sparse, dtype, order, copy, force_all_finite, ensure_2d, allow_nd, ensure_min_samples, ensure_min_features, warn_on_dtype, estimator)\u001b[0m\n\u001b[0;32m    405\u001b[0m                              % (array.ndim, estimator_name))\n\u001b[0;32m    406\u001b[0m         \u001b[1;32mif\u001b[0m \u001b[0mforce_all_finite\u001b[0m\u001b[1;33m:\u001b[0m\u001b[1;33m\u001b[0m\u001b[0m\n\u001b[1;32m--> 407\u001b[1;33m             \u001b[0m_assert_all_finite\u001b[0m\u001b[1;33m(\u001b[0m\u001b[0marray\u001b[0m\u001b[1;33m)\u001b[0m\u001b[1;33m\u001b[0m\u001b[0m\n\u001b[0m\u001b[0;32m    408\u001b[0m \u001b[1;33m\u001b[0m\u001b[0m\n\u001b[0;32m    409\u001b[0m     \u001b[0mshape_repr\u001b[0m \u001b[1;33m=\u001b[0m \u001b[0m_shape_repr\u001b[0m\u001b[1;33m(\u001b[0m\u001b[0marray\u001b[0m\u001b[1;33m.\u001b[0m\u001b[0mshape\u001b[0m\u001b[1;33m)\u001b[0m\u001b[1;33m\u001b[0m\u001b[0m\n",
      "\u001b[1;32mC:\\Users\\HP ELITE BOOK\\Downloads\\WinPython-64bit-3.5.4.0Qt5\\python-3.5.4.amd64\\lib\\site-packages\\sklearn\\utils\\validation.py\u001b[0m in \u001b[0;36m_assert_all_finite\u001b[1;34m(X)\u001b[0m\n\u001b[0;32m     56\u001b[0m             and not np.isfinite(X).all()):\n\u001b[0;32m     57\u001b[0m         raise ValueError(\"Input contains NaN, infinity\"\n\u001b[1;32m---> 58\u001b[1;33m                          \" or a value too large for %r.\" % X.dtype)\n\u001b[0m\u001b[0;32m     59\u001b[0m \u001b[1;33m\u001b[0m\u001b[0m\n\u001b[0;32m     60\u001b[0m \u001b[1;33m\u001b[0m\u001b[0m\n",
      "\u001b[1;31mValueError\u001b[0m: Input contains NaN, infinity or a value too large for dtype('float32')."
     ]
    }
   ],
   "source": [
    "import numpy as np\n",
    "import pandas as pd\n",
    "import matplotlib.pyplot as plt \n",
    "from sklearn.model_selection import KFold, cross_val_score, train_test_split\n",
    "%matplotlib inline\n",
    "from sklearn import preprocessing\n",
    "train = pd.read_csv('train.csv')\n",
    "test = pd.read_csv('test.csv')\n",
    "\n",
    "def get_product_weight(data, column):\n",
    "    name = []\n",
    "    value = []\n",
    "    for names in data[column[0]].unique():\n",
    "        sub = data[column][data[column[0]]==names]\n",
    "        unique = sorted(list(sub[column[1]].unique()), key=float)\n",
    "        if len(unique) == 1:\n",
    "            pass\n",
    "        else:\n",
    "            name.append(names)\n",
    "            value.append(unique[1])\n",
    "    return name, value\n",
    "\n",
    "def fill_in_weight(data, name, value):\n",
    "    for i,j  in enumerate(name):\n",
    "        data.loc[data['Product_Identifier'] == j, 'Product_Weight'] = value[i]\n",
    "    data['Product_Weight'] = data['Product_Weight'].astype(float)\n",
    "    return data\n",
    "\n",
    "def convert_back(data, column):\n",
    "    data[column] = data[column].replace(-0.75, np.NaN)\n",
    "    return data\n",
    "\n",
    "train.Product_Weight = train.Product_Weight.fillna('-0.75')\n",
    "name,value= get_product_weight(train,['Product_Identifier','Product_Weight'])\n",
    "data = fill_in_weight(train,name,value)\n",
    "train = convert_back(train,'Product_Weight')\n",
    "\n",
    "test.Product_Weight = test.Product_Weight.fillna('-0.75')\n",
    "name,value= get_product_weight(test,['Product_Identifier','Product_Weight'])\n",
    "data = fill_in_weight(test,name,value)\n",
    "test = convert_back(test,'Product_Weight')\n",
    "\n",
    "train['Supermarket _Size'] = train['Supermarket _Size'].fillna('V.Small')\n",
    "train.dropna(how='any', inplace=True)\n",
    "\n",
    "test['Supermarket _Size'] = test['Supermarket _Size'].fillna('V.Small')\n",
    "test.Product_Weight.fillna(test.Product_Weight.mean(),inplace=True)\n",
    "\n",
    "\n",
    "train.drop(train[(train[\"Product_Supermarket_Sales\"]>26000)].index,inplace=True)\n",
    "train.Product_Supermarket_Sales = np.sqrt(train.Product_Supermarket_Sales)\n",
    "\n",
    "train['Product_Identifier'] =train['Product_Identifier'].str.extract('(\\d+)').astype(int)\n",
    "test['Product_Identifier'] =test['Product_Identifier'].str.extract('(\\d+)').astype(int)\n",
    "\n",
    "train.Supermarket_Identifier=train.Supermarket_Identifier.map({'CHUKWUDI049':49,'CHUKWUDI013':13,'CHUKWUDI017':17,'CHUKWUDI035':35\n",
    "                                 ,'CHUKWUDI046':46,'CHUKWUDI018':18,'CHUKWUDI045':45,'CHUKWUDI027':27,\n",
    "                                 'CHUKWUDI010':10,'CHUKWUDI019':19})\n",
    "test.Supermarket_Identifier=train.Supermarket_Identifier.map({'CHUKWUDI049':49,'CHUKWUDI013':13,'CHUKWUDI017':17,'CHUKWUDI035':35\n",
    "                                 ,'CHUKWUDI046':46,'CHUKWUDI018':18,'CHUKWUDI045':45,'CHUKWUDI027':27,\n",
    "                                 'CHUKWUDI010':10,'CHUKWUDI019':19})\n",
    "\n",
    "#train.drop(train[(train[\"Product_Supermarket_Sales\"]>158)].index,inplace=True) \n",
    "id = test.Product_Supermarket_Identifier# index for test dataset\n",
    "        \n",
    "features = ['Product_Supermarket_Identifier','Product_Supermarket_Sales',\n",
    "            'Product_Type','Product_Fat_Content',\n",
    "            'Supermarket_Location_Type','Supermarket _Size'\n",
    "            ]\n",
    "\n",
    "train_da=train.drop(features, axis=1)\n",
    "y_train = train.Product_Supermarket_Sales.values\n",
    "\n",
    "test_data = test.drop(['Product_Supermarket_Identifier',\n",
    "                       'Supermarket_Location_Type','Product_Type',\n",
    "                       'Product_Fat_Content','Supermarket _Size'\n",
    "                       ],axis=1)\n",
    "\n",
    "train_d = pd.get_dummies(data=train_da)\n",
    "\n",
    "test_data = pd.get_dummies(data=test_data)\n",
    "\n",
    "\n",
    "\n",
    "X_train, X_test, target_train, target_test = train_test_split(train_d, y_train,\n",
    "                                                              test_size=0.3, random_state=42)\n",
    "from xgboost import XGBRegressor\n",
    "from sklearn.ensemble import RandomForestRegressor,  GradientBoostingRegressor\n",
    "from sklearn.linear_model import ElasticNet, Lasso,  BayesianRidge, LassoLarsIC, LinearRegression\n",
    "from sklearn.tree import DecisionTreeRegressor\n",
    "gbr =  GradientBoostingRegressor()\n",
    "gbr.fit(train_d,y_train)\n",
    "preds = np.square(gbr.predict(test_data))\n",
    "\n",
    "\n",
    "my_submission = pd.DataFrame({'Product_Supermarket_Identifier': id, \n",
    "                              'Product_Supermarket_Sales': preds})\n",
    "# you could use any filename. We choose submission here\n",
    "my_submission.to_csv('submission27.csv', index=False)\n",
    "\n",
    "n_folds = 10\n",
    "def rmse_cv(model,X,y):\n",
    "    kf = KFold(n_folds,random_state=4,shuffle=True).get_n_splits(train_d)\n",
    "    rmse =  np.sqrt(-cross_val_score(model, X,y ,scoring=\"neg_mean_squared_error\", cv = 10))\n",
    "    return(rmse)\n",
    "\n",
    "\n",
    "rmse_cv(gbr,train_d,y_train).mean()"
   ]
  },
  {
   "cell_type": "code",
   "execution_count": null,
   "metadata": {},
   "outputs": [],
   "source": [
    "import numpy as np\n",
    "import pandas as pd\n",
    "import matplotlib.pyplot as plt\n",
    "from sklearn import preprocessing\n",
    "from sklearn.model_selection import KFold, cross_val_score, train_test_split\n",
    "%matplotlib inline\n",
    "\n",
    "train = pd.read_csv('train.csv')\n",
    "test = pd.read_csv('test.csv')\n",
    "\n",
    "\n",
    "train[\"Product_Supermarket_Sales\"]= np.sqrt(train[\"Product_Supermarket_Sales\"])\n",
    "train.drop(train[(train[\"Product_Supermarket_Sales\"]>158)].index,inplace=True) \n",
    "train['SupermarketSize']=train['Supermarket _Size']\n",
    "train['SupermarketSize'] = train['SupermarketSize'].fillna('V.Small')\n",
    "train['Product_Shelf_Visibility'] = train['Product_Shelf_Visibility'] *100\n",
    "train[\"Product_Weight\"] = np.cu(train[\"Product_Weight\"])\n",
    "train['age'] = 2019 - train['Supermarket_Opening_Year']\n",
    "\n",
    "import statsmodels.formula.api as sm\n",
    "model = sm.ols('Product_Supermarket_Sales ~Product_Price+Supermarket_Type+Supermarket_Location_Type+Supermarket_Opening_Year+Product_Shelf_Visibility+Product_Weight',train).fit()"
   ]
  },
  {
   "cell_type": "code",
   "execution_count": null,
   "metadata": {},
   "outputs": [],
   "source": [
    "model.summary()"
   ]
  },
  {
   "cell_type": "code",
   "execution_count": 16,
   "metadata": {},
   "outputs": [
    {
     "ename": "AttributeError",
     "evalue": "'StackedAverageModel' object has no attribute 'base_models_'",
     "output_type": "error",
     "traceback": [
      "\u001b[1;31m---------------------------------------------------------------------------\u001b[0m",
      "\u001b[1;31mAttributeError\u001b[0m                            Traceback (most recent call last)",
      "\u001b[1;32m<ipython-input-16-bbe829b2fe29>\u001b[0m in \u001b[0;36m<module>\u001b[1;34m()\u001b[0m\n\u001b[1;32m----> 1\u001b[1;33m \u001b[0mpredis\u001b[0m \u001b[1;33m=\u001b[0m \u001b[0mstacked_averaged_models\u001b[0m\u001b[1;33m.\u001b[0m\u001b[0mpredict\u001b[0m\u001b[1;33m(\u001b[0m\u001b[0mX_test\u001b[0m\u001b[1;33m)\u001b[0m\u001b[1;33m\u001b[0m\u001b[0m\n\u001b[0m\u001b[0;32m      2\u001b[0m \u001b[1;32mfrom\u001b[0m \u001b[0msklearn\u001b[0m\u001b[1;33m.\u001b[0m\u001b[0mmetrics\u001b[0m \u001b[1;32mimport\u001b[0m \u001b[0mr2_score\u001b[0m\u001b[1;33m\u001b[0m\u001b[0m\n\u001b[0;32m      3\u001b[0m \u001b[0mr2_score\u001b[0m\u001b[1;33m(\u001b[0m\u001b[0mtarget_test\u001b[0m\u001b[1;33m,\u001b[0m\u001b[0mpredis\u001b[0m\u001b[1;33m)\u001b[0m\u001b[1;33m\u001b[0m\u001b[0m\n",
      "\u001b[1;32m<ipython-input-10-dcf65f1d5071>\u001b[0m in \u001b[0;36mpredict\u001b[1;34m(self, X)\u001b[0m\n\u001b[0;32m     22\u001b[0m         predictions = np.column_stack([\n\u001b[0;32m     23\u001b[0m             \u001b[0mnp\u001b[0m\u001b[1;33m.\u001b[0m\u001b[0mcolumn_stack\u001b[0m\u001b[1;33m(\u001b[0m\u001b[1;33m[\u001b[0m\u001b[0mmodel\u001b[0m\u001b[1;33m.\u001b[0m\u001b[0mpredict\u001b[0m\u001b[1;33m(\u001b[0m\u001b[0mX\u001b[0m\u001b[1;33m)\u001b[0m \u001b[1;32mfor\u001b[0m \u001b[0mmodel\u001b[0m \u001b[1;32min\u001b[0m \u001b[0mself\u001b[0m\u001b[1;33m.\u001b[0m\u001b[0mbase_models\u001b[0m\u001b[1;33m]\u001b[0m\u001b[1;33m)\u001b[0m\u001b[1;33m.\u001b[0m\u001b[0mmean\u001b[0m\u001b[1;33m(\u001b[0m\u001b[0maxis\u001b[0m\u001b[1;33m=\u001b[0m\u001b[1;36m1\u001b[0m\u001b[1;33m)\u001b[0m\u001b[1;33m\u001b[0m\u001b[0m\n\u001b[1;32m---> 24\u001b[1;33m             for self.base_models in self.base_models_])\n\u001b[0m\u001b[0;32m     25\u001b[0m         \u001b[1;32mreturn\u001b[0m \u001b[0mself\u001b[0m\u001b[1;33m.\u001b[0m\u001b[0mmeta_model_\u001b[0m\u001b[1;33m.\u001b[0m\u001b[0mpredict\u001b[0m\u001b[1;33m(\u001b[0m\u001b[0mpredictions\u001b[0m\u001b[1;33m)\u001b[0m\u001b[1;33m\u001b[0m\u001b[0m\n",
      "\u001b[1;31mAttributeError\u001b[0m: 'StackedAverageModel' object has no attribute 'base_models_'"
     ]
    }
   ],
   "source": [
    "predis = stacked_averaged_models.predict(X_test)\n",
    "from sklearn.metrics import r2_score\n",
    "r2_score(target_test,predis)"
   ]
  },
  {
   "cell_type": "code",
   "execution_count": null,
   "metadata": {},
   "outputs": [],
   "source": [
    "estimators = [x for x in range(10,100,10)]\n",
    "\n",
    "from sklearn.model_selection import GridSearchCV\n",
    "param_test1 = {'n_estimators':estimators}\n",
    "gsearch1 = GridSearchCV(estimator = GradientBoostingRegressor(learning_rate=0.1, min_samples_split=500,\n",
    "                                  min_samples_leaf=50,max_depth=8,max_features='sqrt', subsample=0.8,random_state=10), \n",
    "                       param_grid = param_test1, scoring='mean_squared_error',n_jobs=4,iid=False, cv=10)\n",
    "gsearch1.fit(train_d,y_train)\n",
    "\n",
    "gsearch1.grid_scores_, gsearch1.best_params_, gsearch1.best_score_"
   ]
  },
  {
   "cell_type": "code",
   "execution_count": null,
   "metadata": {},
   "outputs": [],
   "source": [
    "rmse_cv(gsearch1.best_estimator_,train_d,y_train).mean()"
   ]
  },
  {
   "cell_type": "code",
   "execution_count": null,
   "metadata": {},
   "outputs": [],
   "source": [
    "preds = np.square(gsearch1.best_estimator_.predict(test_data))\n",
    "\n",
    "\n",
    "my_submission = pd.DataFrame({'Product_Supermarket_Identifier': id, \n",
    "                              'Product_Supermarket_Sales': preds})\n",
    "# you could use any filename. We choose submission here\n",
    "my_submission.to_csv('submission12.csv', index=False)\n"
   ]
  },
  {
   "cell_type": "code",
   "execution_count": null,
   "metadata": {},
   "outputs": [],
   "source": [
    "import seaborn as sns\n",
    "import matplotlib.pyplot as plt\n",
    "%matplotlib inline"
   ]
  },
  {
   "cell_type": "code",
   "execution_count": null,
   "metadata": {},
   "outputs": [],
   "source": [
    "#residual = y_train - predis\n",
    "#residual\n",
    "plt.scatter(y_pred,target_test)"
   ]
  },
  {
   "cell_type": "code",
   "execution_count": null,
   "metadata": {},
   "outputs": [],
   "source": [
    "\n",
    "residual = target_test - predis\n",
    "residual\n",
    "plt.scatter(predis,y_train)"
   ]
  },
  {
   "cell_type": "code",
   "execution_count": null,
   "metadata": {},
   "outputs": [],
   "source": [
    "import seaborn as sns\n",
    "residual = target_test - y_pred\n",
    "sns.residplot(X_test['Product_Price'],predis,lowess=True)"
   ]
  },
  {
   "cell_type": "code",
   "execution_count": null,
   "metadata": {},
   "outputs": [],
   "source": [
    "train_d.columns"
   ]
  },
  {
   "cell_type": "code",
   "execution_count": 10,
   "metadata": {},
   "outputs": [],
   "source": [
    "from sklearn.base import BaseEstimator, TransformerMixin, RegressorMixin, clone\n",
    "class StackedAverageModel(BaseEstimator,RegressorMixin, TransformerMixin):\n",
    "    def __init__(self,base_models,meta_model,n_folds=5):\n",
    "        self.base_models = base_models\n",
    "        self.meta_model = meta_model\n",
    "        self.n_folds = n_folds\n",
    "    def fit(self,X,y):\n",
    "        self.base_models_ = [list() for x in self.base_models]\n",
    "        self.meta_model_ = clone(self.meta_model)\n",
    "        kfold = KFold(n_splits=self.n_folds, random_state=53, shuffle=True)\n",
    "        out_of_predictions = np.zeros((X.shape[0], len(self.base_models)))\n",
    "        for i, model in enumerate(self.base_models):\n",
    "            for train_index,holdout_index in kfold.split(X,y):\n",
    "                instance = clone(model)\n",
    "                self.base_models_[i].append(instance)\n",
    "                instance.fit(X[train_index],y[train_index])\n",
    "                y_pred = instance.predict(X[holdout_index])\n",
    "                out_of_predictions[holdout_index,i] = y_pred\n",
    "        self.meta_model_.fit(out_of_predictions,y)\n",
    "        return self\n",
    "    def predict(self,X):\n",
    "        predictions = np.column_stack([\n",
    "            np.column_stack([model.predict(X) for model in self.base_models]).mean(axis=1)\n",
    "            for self.base_models in self.base_models_])\n",
    "        return self.meta_model_.predict(predictions)"
   ]
  },
  {
   "cell_type": "code",
   "execution_count": null,
   "metadata": {},
   "outputs": [],
   "source": [
    "br =  BayesianRidge()\n",
    "br.fit(train_d,y_train)"
   ]
  },
  {
   "cell_type": "code",
   "execution_count": 11,
   "metadata": {},
   "outputs": [
    {
     "data": {
      "text/plain": [
       "GradientBoostingRegressor(alpha=0.9, criterion='friedman_mse', init=None,\n",
       "             learning_rate=0.1, loss='ls', max_depth=3, max_features=None,\n",
       "             max_leaf_nodes=None, min_impurity_split=1e-07,\n",
       "             min_samples_leaf=1, min_samples_split=2,\n",
       "             min_weight_fraction_leaf=0.0, n_estimators=100,\n",
       "             presort='auto', random_state=None, subsample=1.0, verbose=0,\n",
       "             warm_start=False)"
      ]
     },
     "execution_count": 11,
     "metadata": {},
     "output_type": "execute_result"
    }
   ],
   "source": [
    "gbr =  GradientBoostingRegressor()\n",
    "gbr.fit(train_d,y_train)"
   ]
  },
  {
   "cell_type": "code",
   "execution_count": 12,
   "metadata": {},
   "outputs": [
    {
     "data": {
      "text/plain": [
       "LinearRegression(copy_X=True, fit_intercept=True, n_jobs=1, normalize=False)"
      ]
     },
     "execution_count": 12,
     "metadata": {},
     "output_type": "execute_result"
    }
   ],
   "source": [
    "lr =  LinearRegression()\n",
    "lr.fit(train_d,y_train)"
   ]
  },
  {
   "cell_type": "code",
   "execution_count": 13,
   "metadata": {},
   "outputs": [
    {
     "data": {
      "text/plain": [
       "XGBRegressor(base_score=0.5, booster='gbtree', colsample_bylevel=1,\n",
       "       colsample_bytree=1, gamma=0, learning_rate=0.1, max_delta_step=0,\n",
       "       max_depth=3, min_child_weight=1, missing=None, n_estimators=100,\n",
       "       n_jobs=1, nthread=None, objective='reg:linear', random_state=0,\n",
       "       reg_alpha=0, reg_lambda=1, scale_pos_weight=1, seed=None,\n",
       "       silent=True, subsample=1)"
      ]
     },
     "execution_count": 13,
     "metadata": {},
     "output_type": "execute_result"
    }
   ],
   "source": [
    "ll = XGBRegressor()\n",
    "ll.fit(train_d,y_train)"
   ]
  },
  {
   "cell_type": "code",
   "execution_count": 19,
   "metadata": {},
   "outputs": [
    {
     "name": "stdout",
     "output_type": "stream",
     "text": [
      " Averaged base models score: 17.4350 (0.7418)\n",
      "\n"
     ]
    }
   ],
   "source": [
    "stacked_averaged_models = StackedAverageModel(base_models=(lr,ll)\n",
    "                                             ,meta_model=gbr)\n",
    "score = rmse_cv(stacked_averaged_models,train_d.values, y_train)\n",
    "print(\" Averaged base models score: {:.4f} ({:.4f})\\n\".format(score.mean(), score.std()))"
   ]
  },
  {
   "cell_type": "code",
   "execution_count": null,
   "metadata": {},
   "outputs": [],
   "source": [
    "import numpy as np\n",
    "import pandas as pd\n",
    "import matplotlib.pyplot as plt \n",
    "%matplotlib inline\n",
    "\n",
    "train = pd.read_csv('train.csv')\n",
    "test = pd.read_csv('test.csv')"
   ]
  },
  {
   "cell_type": "code",
   "execution_count": null,
   "metadata": {},
   "outputs": [],
   "source": []
  },
  {
   "cell_type": "code",
   "execution_count": null,
   "metadata": {},
   "outputs": [],
   "source": [
    "train.describe()"
   ]
  },
  {
   "cell_type": "code",
   "execution_count": null,
   "metadata": {},
   "outputs": [],
   "source": [
    "predis"
   ]
  },
  {
   "cell_type": "code",
   "execution_count": null,
   "metadata": {},
   "outputs": [],
   "source": [
    "train.head(20)"
   ]
  },
  {
   "cell_type": "code",
   "execution_count": null,
   "metadata": {},
   "outputs": [],
   "source": [
    "def get_product_weight(data, column):\n",
    "    name = []\n",
    "    value = []\n",
    "    for names in data[column[0]].unique():\n",
    "        sub = data[column][data[column[0]]==names]\n",
    "        unique = sorted(list(sub[column[1]].unique()), key=float)\n",
    "        if len(unique) == 1:\n",
    "            pass\n",
    "        else:\n",
    "            name.append(names)\n",
    "            value.append(unique[1])\n",
    "    return name, value\n",
    "\n",
    "def fill_in_weight(data, name, value):\n",
    "    for i,j  in enumerate(name):\n",
    "        data.loc[data['Product_Identifier'] == j, 'Product_Weight'] = value[i]\n",
    "    data['Product_Weight'] = data['Product_Weight'].astype(float)\n",
    "    return data\n",
    "\n",
    "def convert_back(data, column):\n",
    "    data[column] = data[column].replace(-0.75, np.NaN)\n",
    "    return data"
   ]
  },
  {
   "cell_type": "code",
   "execution_count": null,
   "metadata": {},
   "outputs": [],
   "source": [
    "train.Product_Weight = train.Product_Weight.fillna('-0.75')\n",
    "name,value= get_product_weight(train,['Product_Identifier','Product_Weight'])\n",
    "data = fill_in_weight(train,name,value)\n",
    "train = convert_back(train,'Product_Weight')"
   ]
  },
  {
   "cell_type": "code",
   "execution_count": null,
   "metadata": {},
   "outputs": [],
   "source": [
    "missing = test.isnull().sum()\n",
    "missing[missing>0]"
   ]
  },
  {
   "cell_type": "code",
   "execution_count": null,
   "metadata": {},
   "outputs": [],
   "source": [
    "train['Supermarket _Size'] = train['Supermarket _Size'].fillna('V.Small')"
   ]
  },
  {
   "cell_type": "code",
   "execution_count": null,
   "metadata": {},
   "outputs": [],
   "source": [
    "train.dropna(how='any', inplace=True)"
   ]
  },
  {
   "cell_type": "code",
   "execution_count": null,
   "metadata": {},
   "outputs": [],
   "source": [
    "train.shape"
   ]
  },
  {
   "cell_type": "code",
   "execution_count": null,
   "metadata": {},
   "outputs": [],
   "source": [
    "train['Supermarket_Opening_Year'].value_counts()"
   ]
  },
  {
   "cell_type": "code",
   "execution_count": null,
   "metadata": {},
   "outputs": [],
   "source": [
    "#for dataset in combine:\n",
    "    #dataset['Supermarket _Size'].replace({'Small':1,'V.Small':2,'Medium':3,'High':4}, inplace= True)\n",
    "    #dataset.Product_Fat_Content.replace({'Ultra Low fat':1,'Low Fat':2,'Normal Fat':3}, inplace=True)"
   ]
  },
  {
   "cell_type": "code",
   "execution_count": null,
   "metadata": {},
   "outputs": [],
   "source": [
    "combine = [train,test]\n",
    "for dataset in combine:\n",
    "    dataset.loc[dataset['Product_Shelf_Visibility'] == 0 ,'Product_Shelf_Visibility'] = 0\n",
    "    dataset.loc[dataset['Product_Shelf_Visibility'] > 0 ,'Product_Shelf_Visibility'] = 1"
   ]
  },
  {
   "cell_type": "code",
   "execution_count": null,
   "metadata": {},
   "outputs": [],
   "source": [
    "train['Product_Shelf_Visibility']= 100*train['Product_Shelf_Visibility']"
   ]
  },
  {
   "cell_type": "code",
   "execution_count": null,
   "metadata": {},
   "outputs": [],
   "source": [
    "combine = [train,test]\n",
    "for dataset in combine:\n",
    "    dataset['Supermarket_Opening_Year']=dataset['Supermarket_Opening_Year'].astype(str)\n",
    "    #dataset['Product_Weight'] = dataset['Product_Weight'].astype(str)\n",
    "    #dataset['Product_Shelf_Visibility'] = dataset['Product_Shelf_Visibility'].astype(str)\n",
    "#train['Product_Weight'] = train['Product_Weight'].astype(str)\n",
    "train['age'] = train['age'].astype(str)\n"
   ]
  },
  {
   "cell_type": "code",
   "execution_count": null,
   "metadata": {},
   "outputs": [],
   "source": [
    "train['age'] = 2018 - train['Supermarket_Opening_Year']"
   ]
  },
  {
   "cell_type": "code",
   "execution_count": null,
   "metadata": {},
   "outputs": [],
   "source": [
    "id = test.Product_Supermarket_Identifier\n",
    "#all_data = pd.concat((train, test)).reset_index(drop=True)\n",
    "#all_data.drop(['Product_Supermarket_Identifier','Product_Supermarket_Sales'], axis=1, inplace=True)"
   ]
  },
  {
   "cell_type": "code",
   "execution_count": null,
   "metadata": {},
   "outputs": [],
   "source": [
    "features =['Product_Supermarket_Identifier',\n",
    "           'Product_Supermarket_Sales','Product_Identifier','Supermarket_Identifier','Supermarket_Opening_Year',\n",
    "           'Product_Weight','Product_Fat_Content', 'Product_Type']\n",
    "train_da=train.drop(features, axis=1)"
   ]
  },
  {
   "cell_type": "code",
   "execution_count": null,
   "metadata": {},
   "outputs": [],
   "source": [
    "y_train = train.Product_Supermarket_Sales.values"
   ]
  },
  {
   "cell_type": "code",
   "execution_count": null,
   "metadata": {},
   "outputs": [],
   "source": [
    "train_d = pd.get_dummies(data=train_da)\n",
    "train_d.shape"
   ]
  },
  {
   "cell_type": "code",
   "execution_count": null,
   "metadata": {},
   "outputs": [],
   "source": [
    "train_d.columns"
   ]
  },
  {
   "cell_type": "code",
   "execution_count": null,
   "metadata": {},
   "outputs": [],
   "source": [
    "from sklearn.linear_model import ElasticNet, Lasso,  BayesianRidge, LassoLarsIC, LinearRegression\n",
    "from sklearn.ensemble import RandomForestRegressor,  GradientBoostingRegressor\n",
    "from sklearn.kernel_ridge import KernelRidge\n",
    "from sklearn.pipeline import make_pipeline\n",
    "from sklearn.preprocessing import RobustScaler\n",
    "from sklearn.base import BaseEstimator, TransformerMixin, RegressorMixin, clone\n",
    "from sklearn.model_selection import KFold, cross_val_score, train_test_split\n",
    "from sklearn.metrics import mean_squared_error"
   ]
  },
  {
   "cell_type": "code",
   "execution_count": null,
   "metadata": {},
   "outputs": [],
   "source": [
    "lm = LinearRegression()\n",
    "lm.fit(train_d, y_train)"
   ]
  },
  {
   "cell_type": "code",
   "execution_count": null,
   "metadata": {},
   "outputs": [],
   "source": [
    "gbr = GradientBoostingRegressor()\n",
    "gbr.fit(train_d, y_train)\n",
    "preds = gbr.predict"
   ]
  },
  {
   "cell_type": "code",
   "execution_count": null,
   "metadata": {},
   "outputs": [],
   "source": [
    "n_folds = 10\n",
    "def rmse_cv(model,X,y):\n",
    "    kf = KFold(n_folds,random_state=4,shuffle=True).get_n_splits(train_d.values)\n",
    "    rmse =  np.sqrt(-cross_val_score(model, X,y ,scoring=\"neg_mean_squared_error\", cv = 10))\n",
    "    return(rmse)"
   ]
  },
  {
   "cell_type": "code",
   "execution_count": null,
   "metadata": {},
   "outputs": [],
   "source": [
    "rmse_cv(gbr,train_d, y_train).mean()"
   ]
  },
  {
   "cell_type": "code",
   "execution_count": null,
   "metadata": {},
   "outputs": [],
   "source": [
    "my_submission = pd.DataFrame({'Product_Supermarket_Identifier': id, 'Product_Supermarket_Sales': preds})\n",
    "# you could use any filename. We choose submission here\n",
    "my_submission.to_csv('submission2.csv', index=False)"
   ]
  },
  {
   "cell_type": "code",
   "execution_count": null,
   "metadata": {},
   "outputs": [],
   "source": [
    "from sklearn.model_selection import GridSearchCV\n",
    "from sklearn.linear_model import Ridge"
   ]
  },
  {
   "cell_type": "code",
   "execution_count": null,
   "metadata": {},
   "outputs": [],
   "source": [
    "lasso = Lasso()\n",
    "#param_grid = {'alpha': [ 10], 'max_iter': [50000]}\n",
    "#lasso = GridSearchCV(Lasso(), cv=5, param_grid=param_grid, scoring='neg_mean_squared_error')\n",
    "lasso.fit(train_d, y_train)\n",
    "#preds = np.expm1(lasso.predict(test_d))"
   ]
  },
  {
   "cell_type": "code",
   "execution_count": null,
   "metadata": {},
   "outputs": [],
   "source": [
    "rmse_cv(lasso, train_d, y_train).mean()"
   ]
  },
  {
   "cell_type": "code",
   "execution_count": null,
   "metadata": {},
   "outputs": [],
   "source": [
    "#param_grid = {'alpha': [0.01, 0.1, 1., 5., 10., 25., 50., 100.]}\n",
    "#ridge = GridSearchCV(Ridge(), cv=5, param_grid=param_grid, scoring='neg_mean_squared_error')\n",
    "ridge.fit(train_d, y_train)\n",
    "#alpha = ridge.best_params_['alpha']"
   ]
  },
  {
   "cell_type": "code",
   "execution_count": null,
   "metadata": {},
   "outputs": [],
   "source": [
    "ENet = make_pipeline(RobustScaler(), ElasticNet(alpha=0.0005, l1_ratio=.9, random_state=3))\n",
    "ENet.fit(train_d, y_train)"
   ]
  },
  {
   "cell_type": "code",
   "execution_count": null,
   "metadata": {},
   "outputs": [],
   "source": [
    "class StackedAverageModel(BaseEstimator,RegressorMixin, TransformerMixin):\n",
    "    def __init__(self,base_models,meta_model,n_folds=5):\n",
    "        self.base_models = base_models\n",
    "        self.meta_model = meta_model\n",
    "        self.n_folds = n_folds\n",
    "    def fit(self,X,y):\n",
    "        self.base_models_ = [list() for x in self.base_models]\n",
    "        self.meta_model_ = clone(self.meta_model)\n",
    "        kfold = KFold(n_splits=self.n_folds, random_state=53, shuffle=True)\n",
    "        out_of_predictions = np.zeros((X.shape[0], len(self.base_models)))\n",
    "        for i, model in enumerate(self.base_models):\n",
    "            for train_index,holdout_index in kfold.split(X,y):\n",
    "                instance = clone(model)\n",
    "                self.base_models_[i].append(instance)\n",
    "                instance.fit(X[train_index],y[train_index])\n",
    "                y_pred = instance.predict(X[holdout_index])\n",
    "                out_of_predictions[holdout_index,i] = y_pred\n",
    "        self.meta_model_.fit(out_of_predictions,y)\n",
    "        return self\n",
    "    def predict(self,X):\n",
    "        predictions = np.column_stack([\n",
    "            np.column_stack([model.predict(X) for model in self.base_models]).mean(axis=1)\n",
    "            for self.base_models in self.base_models_])\n",
    "        return self.meta_model_.predict(predictions)\n",
    "        "
   ]
  },
  {
   "cell_type": "code",
   "execution_count": null,
   "metadata": {},
   "outputs": [],
   "source": [
    "import seaborn as sns\n",
    "corr =train_d.corr() # We already examined SalePrice correlations\n",
    "plt.figure(figsize=(12, 10))\n",
    "\n",
    "sns.heatmap(corr[(corr >= 0.5) | (corr <= -0.5)], \n",
    "            cmap='coolwarm', vmax=1.0, vmin=-1.0, linewidths=0.1,\n",
    "            annot=True, annot_kws={\"size\": 8}, square=True);"
   ]
  },
  {
   "cell_type": "code",
   "execution_count": null,
   "metadata": {},
   "outputs": [],
   "source": []
  }
 ],
 "metadata": {
  "kernelspec": {
   "display_name": "Python 3",
   "language": "python",
   "name": "python3"
  },
  "language_info": {
   "codemirror_mode": {
    "name": "ipython",
    "version": 3
   },
   "file_extension": ".py",
   "mimetype": "text/x-python",
   "name": "python",
   "nbconvert_exporter": "python",
   "pygments_lexer": "ipython3",
   "version": "3.5.4"
  }
 },
 "nbformat": 4,
 "nbformat_minor": 2
}
